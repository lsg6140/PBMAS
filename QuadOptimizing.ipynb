{
 "cells": [
  {
   "cell_type": "code",
   "execution_count": 1,
   "metadata": {},
   "outputs": [],
   "source": [
    "from math import log, exp, sqrt\n",
    "from scipy.integrate import quad\n",
    "import numpy as np\n",
    "\n",
    "def test_py1(x, a, b):\n",
    "    return exp(log(x) * a) + b\n",
    "\n",
    "def test_py2(x, c):\n",
    "    return sqrt(x) / c\n",
    "\n",
    "def integrand_py(x, a, b, c):\n",
    "    return test_py1(x, a, b) * test_py2(x, c)\n",
    "\n",
    "def integ_py(vec, *args):\n",
    "    n = vec.shape[0]\n",
    "    res = np.empty(n-1)\n",
    "    for i in range(n-1):\n",
    "        res[i] = quad(integrand_py, vec[i], vec[i+1], args=(*args,))[0]\n",
    "    return res"
   ]
  },
  {
   "cell_type": "code",
   "execution_count": 11,
   "metadata": {},
   "outputs": [],
   "source": [
    "DTYPE = np.double\n",
    "\n",
    "vec = np.random.random(100).astype(DTYPE)\n",
    "a = 2.0\n",
    "b = 0.5\n",
    "c = 1.5"
   ]
  },
  {
   "cell_type": "code",
   "execution_count": 56,
   "metadata": {},
   "outputs": [
    {
     "name": "stdout",
     "output_type": "stream",
     "text": [
      "438 ns ± 2.74 ns per loop (mean ± std. dev. of 7 runs, 1000000 loops each)\n"
     ]
    }
   ],
   "source": [
    "%timeit integrand_py(10.0, a, b, c)"
   ]
  },
  {
   "cell_type": "code",
   "execution_count": 12,
   "metadata": {},
   "outputs": [
    {
     "name": "stdout",
     "output_type": "stream",
     "text": [
      "1.3 ms ± 49 µs per loop (mean ± std. dev. of 7 runs, 1000 loops each)\n"
     ]
    }
   ],
   "source": [
    "%timeit integ_py(vec, a, b, c)"
   ]
  },
  {
   "cell_type": "markdown",
   "metadata": {},
   "source": [
    "# Simply convert to Cython"
   ]
  },
  {
   "cell_type": "code",
   "execution_count": 13,
   "metadata": {},
   "outputs": [],
   "source": [
    "%load_ext cython"
   ]
  },
  {
   "cell_type": "code",
   "execution_count": 16,
   "metadata": {},
   "outputs": [],
   "source": [
    "%%cython\n",
    "from math import log, exp, sqrt\n",
    "from scipy.integrate import quad\n",
    "import numpy as np\n",
    "\n",
    "def test_cy1(x, a, b):\n",
    "    return exp(log(x) * a) + b\n",
    "\n",
    "def test_cy2(x, c):\n",
    "    return sqrt(x) / c\n",
    "\n",
    "def integrand_cy(x, a, b, c):\n",
    "    return test_cy1(x, a, b) * test_cy2(x, c)\n",
    "\n",
    "def integ_cy(vec, *args):\n",
    "    n = vec.shape[0]\n",
    "    res = np.empty(n-1)\n",
    "    for i in range(n-1):\n",
    "        res[i] = quad(integrand_cy, vec[i], vec[i+1], args=(*args,))[0]\n",
    "    return res"
   ]
  },
  {
   "cell_type": "code",
   "execution_count": 17,
   "metadata": {},
   "outputs": [
    {
     "name": "stdout",
     "output_type": "stream",
     "text": [
      "963 µs ± 17.6 µs per loop (mean ± std. dev. of 7 runs, 1000 loops each)\n"
     ]
    }
   ],
   "source": [
    "%timeit integ_cy(vec, a, b, c)"
   ]
  },
  {
   "cell_type": "markdown",
   "metadata": {},
   "source": [
    "# Convert to C math library"
   ]
  },
  {
   "cell_type": "code",
   "execution_count": 18,
   "metadata": {},
   "outputs": [],
   "source": [
    "%%cython\n",
    "from libc.math cimport log, exp, sqrt\n",
    "from scipy.integrate import quad\n",
    "import numpy as np\n",
    "\n",
    "def test_cy1(x, a, b):\n",
    "    return exp(log(x) * a) + b\n",
    "\n",
    "def test_cy2(x, c):\n",
    "    return sqrt(x) / c\n",
    "\n",
    "def integrand_cy(x, a, b, c):\n",
    "    return test_cy1(x, a, b) * test_cy2(x, c)\n",
    "\n",
    "def integ_cy(vec, *args):\n",
    "    n = vec.shape[0]\n",
    "    res = np.empty(n-1)\n",
    "    for i in range(n-1):\n",
    "        res[i] = quad(integrand_cy, vec[i], vec[i+1], args=(*args,))[0]\n",
    "    return res"
   ]
  },
  {
   "cell_type": "code",
   "execution_count": 19,
   "metadata": {},
   "outputs": [
    {
     "name": "stdout",
     "output_type": "stream",
     "text": [
      "740 µs ± 13.1 µs per loop (mean ± std. dev. of 7 runs, 1000 loops each)\n"
     ]
    }
   ],
   "source": [
    "%timeit integ_cy(vec, a, b, c)"
   ]
  },
  {
   "cell_type": "markdown",
   "metadata": {},
   "source": [
    "# Add static types to test functions"
   ]
  },
  {
   "cell_type": "code",
   "execution_count": 20,
   "metadata": {},
   "outputs": [],
   "source": [
    "%%cython\n",
    "from libc.math cimport log, exp, sqrt\n",
    "from scipy.integrate import quad\n",
    "import numpy as np\n",
    "\n",
    "def test_cy1(double x, double a, double b):\n",
    "    return exp(log(x) * a) + b\n",
    "\n",
    "def test_cy2(double x, double c):\n",
    "    return sqrt(x) / c\n",
    "\n",
    "def integrand_cy(x, a, b, c):\n",
    "    return test_cy1(x, a, b) * test_cy2(x, c)\n",
    "\n",
    "def integ_cy(vec, *args):\n",
    "    n = vec.shape[0]\n",
    "    res = np.empty(n-1)\n",
    "    for i in range(n-1):\n",
    "        res[i] = quad(integrand_cy, vec[i], vec[i+1], args=(*args,))[0]\n",
    "    return res"
   ]
  },
  {
   "cell_type": "code",
   "execution_count": 21,
   "metadata": {},
   "outputs": [
    {
     "name": "stdout",
     "output_type": "stream",
     "text": [
      "649 µs ± 2.39 µs per loop (mean ± std. dev. of 7 runs, 1000 loops each)\n"
     ]
    }
   ],
   "source": [
    "%timeit integ_cy(vec, a, b, c)"
   ]
  },
  {
   "cell_type": "code",
   "execution_count": 22,
   "metadata": {},
   "outputs": [],
   "source": [
    "%%cython\n",
    "from libc.math cimport log, exp, sqrt\n",
    "from scipy.integrate import quad\n",
    "import numpy as np\n",
    "\n",
    "def test_cy1(double x, double a, double b):\n",
    "    return exp(log(x) * a) + b\n",
    "\n",
    "def test_cy2(double x, double c):\n",
    "    return sqrt(x) / c\n",
    "\n",
    "# x to double x\n",
    "def integrand_cy(double x, double a, double b, double c):\n",
    "    return test_cy1(x, a, b) * test_cy2(x, c)\n",
    "\n",
    "def integ_cy(vec, *args):\n",
    "    n = vec.shape[0]\n",
    "    res = np.empty(n-1)\n",
    "    for i in range(n-1):\n",
    "        res[i] = quad(integrand_cy, vec[i], vec[i+1], args=(*args,))[0]\n",
    "    return res"
   ]
  },
  {
   "cell_type": "code",
   "execution_count": 23,
   "metadata": {},
   "outputs": [
    {
     "name": "stdout",
     "output_type": "stream",
     "text": [
      "719 µs ± 6.59 µs per loop (mean ± std. dev. of 7 runs, 1000 loops each)\n"
     ]
    }
   ],
   "source": [
    "%timeit integ_cy(vec, a, b, c)"
   ]
  },
  {
   "cell_type": "markdown",
   "metadata": {},
   "source": [
    "Why is it slower????"
   ]
  },
  {
   "cell_type": "code",
   "execution_count": 24,
   "metadata": {},
   "outputs": [],
   "source": [
    "%%cython\n",
    "from libc.math cimport log, exp, sqrt\n",
    "from scipy.integrate import quad\n",
    "import numpy as np\n",
    "\n",
    "cdef double test_cy1(double x, double a, double b):\n",
    "    return exp(log(x) * a) + b\n",
    "\n",
    "cdef double test_cy2(double x, double c):\n",
    "    return sqrt(x) / c\n",
    "\n",
    "def integrand_cy(x, a, b, c):\n",
    "    return test_cy1(x, a, b) * test_cy2(x, c)\n",
    "\n",
    "def integ_cy(vec, *args):\n",
    "    n = vec.shape[0]\n",
    "    res = np.empty(n-1)\n",
    "    for i in range(n-1):\n",
    "        res[i] = quad(integrand_cy, vec[i], vec[i+1], args=(*args,))[0]\n",
    "    return res"
   ]
  },
  {
   "cell_type": "code",
   "execution_count": 25,
   "metadata": {},
   "outputs": [
    {
     "name": "stdout",
     "output_type": "stream",
     "text": [
      "492 µs ± 11.8 µs per loop (mean ± std. dev. of 7 runs, 1000 loops each)\n"
     ]
    }
   ],
   "source": [
    "%timeit integ_cy(vec, a, b, c)"
   ]
  },
  {
   "cell_type": "markdown",
   "metadata": {},
   "source": [
    "# Disable zero division check"
   ]
  },
  {
   "cell_type": "code",
   "execution_count": 57,
   "metadata": {},
   "outputs": [],
   "source": [
    "%%cython\n",
    "from libc.math cimport log, exp, sqrt\n",
    "from scipy.integrate import quad\n",
    "import numpy as np\n",
    "import cython\n",
    "\n",
    "cdef double test_cy1(double x, double a, double b):\n",
    "    return exp(log(x) * a) + b\n",
    "\n",
    "@cython.cdivision(True)\n",
    "cdef double test_cy2(double x, double c):\n",
    "    return sqrt(x) / c\n",
    "\n",
    "def integrand_cy(x, a, b, c):\n",
    "    return test_cy1(x, a, b) * test_cy2(x, c)\n",
    "\n",
    "def integ_cy(vec, *args):\n",
    "    n = vec.shape[0]\n",
    "    res = np.empty(n-1)\n",
    "    for i in range(n-1):\n",
    "        res[i] = quad(integrand_cy, vec[i], vec[i+1], args=(*args,))[0]\n",
    "    return res"
   ]
  },
  {
   "cell_type": "code",
   "execution_count": 59,
   "metadata": {},
   "outputs": [
    {
     "name": "stdout",
     "output_type": "stream",
     "text": [
      "138 ns ± 1.39 ns per loop (mean ± std. dev. of 7 runs, 10000000 loops each)\n"
     ]
    }
   ],
   "source": [
    "%timeit integrand_cy(10.0, a, b, c)"
   ]
  },
  {
   "cell_type": "code",
   "execution_count": 34,
   "metadata": {},
   "outputs": [
    {
     "name": "stdout",
     "output_type": "stream",
     "text": [
      "484 µs ± 14.3 µs per loop (mean ± std. dev. of 7 runs, 1000 loops each)\n"
     ]
    }
   ],
   "source": [
    "%timeit integ_cy(vec, a, b, c)"
   ]
  },
  {
   "cell_type": "markdown",
   "metadata": {},
   "source": [
    "# Add static types to integrand"
   ]
  },
  {
   "cell_type": "code",
   "execution_count": 41,
   "metadata": {},
   "outputs": [],
   "source": [
    "%%cython\n",
    "from libc.math cimport log, exp, sqrt\n",
    "from scipy.integrate import quad\n",
    "import numpy as np\n",
    "import cython\n",
    "\n",
    "cdef double test_cy1(double x, double a, double b):\n",
    "    return exp(log(x) * a) + b\n",
    "\n",
    "@cython.cdivision(True)\n",
    "cdef double test_cy2(double x, double c):\n",
    "    return sqrt(x) / c\n",
    "\n",
    "def integrand_cy(double x, double a, double b, double c):\n",
    "    return test_cy1(x, a, b) * test_cy2(x, c)\n",
    "\n",
    "def integ_cy(vec, *args):\n",
    "    n = vec.shape[0]\n",
    "    res = np.empty(n-1)\n",
    "    for i in range(n-1):\n",
    "        res[i] = quad(integrand_cy, vec[i], vec[i+1], args=(*args,))[0]\n",
    "    return res"
   ]
  },
  {
   "cell_type": "code",
   "execution_count": 36,
   "metadata": {},
   "outputs": [
    {
     "name": "stdout",
     "output_type": "stream",
     "text": [
      "489 µs ± 14.5 µs per loop (mean ± std. dev. of 7 runs, 1000 loops each)\n"
     ]
    }
   ],
   "source": [
    "%timeit integ_cy(vec, a, b, c)"
   ]
  },
  {
   "cell_type": "code",
   "execution_count": 42,
   "metadata": {},
   "outputs": [],
   "source": [
    "%%cython\n",
    "from libc.math cimport log, exp, sqrt\n",
    "from scipy.integrate import quad\n",
    "import numpy as np\n",
    "import cython\n",
    "\n",
    "cdef double test_cy1(double x, double a, double b):\n",
    "    return exp(log(x) * a) + b\n",
    "\n",
    "@cython.cdivision(True)\n",
    "cdef double test_cy2(double x, double c):\n",
    "    return sqrt(x) / c\n",
    "\n",
    "cdef double integrand_cy(double x, double a, double b, double c):\n",
    "    return test_cy1(x, a, b) * test_cy2(x, c)\n",
    "\n",
    "def integ_cy(vec, *args):\n",
    "    n = vec.shape[0]\n",
    "    res = np.empty(n-1)\n",
    "    for i in range(n-1):\n",
    "        res[i] = quad(integrand_cy, vec[i], vec[i+1], args=(*args,))[0]\n",
    "    return res"
   ]
  },
  {
   "cell_type": "code",
   "execution_count": 39,
   "metadata": {},
   "outputs": [
    {
     "name": "stdout",
     "output_type": "stream",
     "text": [
      "497 µs ± 12 µs per loop (mean ± std. dev. of 7 runs, 1000 loops each)\n"
     ]
    }
   ],
   "source": [
    "%timeit integ_cy(vec, a, b, c)"
   ]
  },
  {
   "cell_type": "markdown",
   "metadata": {},
   "source": [
    "## No performance gain in defining integrand in static typed function"
   ]
  },
  {
   "cell_type": "markdown",
   "metadata": {},
   "source": [
    "# Add static types for for-loops"
   ]
  },
  {
   "cell_type": "code",
   "execution_count": 43,
   "metadata": {},
   "outputs": [],
   "source": [
    "%%cython\n",
    "from libc.math cimport log, exp, sqrt\n",
    "from scipy.integrate import quad\n",
    "import numpy as np\n",
    "import cython\n",
    "\n",
    "cdef double test_cy1(double x, double a, double b):\n",
    "    return exp(log(x) * a) + b\n",
    "\n",
    "@cython.cdivision(True)\n",
    "cdef double test_cy2(double x, double c):\n",
    "    return sqrt(x) / c\n",
    "\n",
    "def integrand_cy(x, a, b, c):\n",
    "    return test_cy1(x, a, b) * test_cy2(x, c)\n",
    "\n",
    "def integ_cy(vec, *args):\n",
    "    cdef Py_ssize_t n = vec.shape[0]\n",
    "    res = np.empty(n-1)\n",
    "    cdef Py_ssize_t i\n",
    "    for i in range(n-1):\n",
    "        res[i] = quad(integrand_cy, vec[i], vec[i+1], args=(*args,))[0]\n",
    "    return res"
   ]
  },
  {
   "cell_type": "code",
   "execution_count": 44,
   "metadata": {},
   "outputs": [
    {
     "name": "stdout",
     "output_type": "stream",
     "text": [
      "473 µs ± 11.2 µs per loop (mean ± std. dev. of 7 runs, 1000 loops each)\n"
     ]
    }
   ],
   "source": [
    "%timeit integ_cy(vec, a, b, c)"
   ]
  },
  {
   "cell_type": "markdown",
   "metadata": {},
   "source": [
    "# Converting to memoryview "
   ]
  },
  {
   "cell_type": "code",
   "execution_count": 48,
   "metadata": {},
   "outputs": [],
   "source": [
    "%%cython\n",
    "from libc.math cimport log, exp, sqrt\n",
    "from scipy.integrate import quad\n",
    "import numpy as np\n",
    "import cython\n",
    "\n",
    "cdef double test_cy1(double x, double a, double b):\n",
    "    return exp(log(x) * a) + b\n",
    "\n",
    "@cython.cdivision(True)\n",
    "cdef double test_cy2(double x, double c):\n",
    "    return sqrt(x) / c\n",
    "\n",
    "def integrand_cy(x, a, b, c):\n",
    "    return test_cy1(x, a, b) * test_cy2(x, c)\n",
    "\n",
    "def integ_cy(vec, *args):\n",
    "    cdef Py_ssize_t n = vec.shape[0]\n",
    "    res = np.empty(n-1)\n",
    "    cdef double[:] resv = res\n",
    "    cdef Py_ssize_t i\n",
    "    for i in range(n-1):\n",
    "        resv[i] = quad(integrand_cy, vec[i], vec[i+1], args=(*args,))[0]\n",
    "    return res"
   ]
  },
  {
   "cell_type": "code",
   "execution_count": 46,
   "metadata": {},
   "outputs": [
    {
     "name": "stdout",
     "output_type": "stream",
     "text": [
      "488 µs ± 6.24 µs per loop (mean ± std. dev. of 7 runs, 1000 loops each)\n"
     ]
    }
   ],
   "source": [
    "%timeit integ_cy(vec, a, b, c)"
   ]
  },
  {
   "cell_type": "code",
   "execution_count": 51,
   "metadata": {},
   "outputs": [],
   "source": [
    "%%cython\n",
    "from libc.math cimport log, exp, sqrt\n",
    "from scipy.integrate import quad\n",
    "import numpy as np\n",
    "import cython\n",
    "\n",
    "cdef double test_cy1(double x, double a, double b):\n",
    "    return exp(log(x) * a) + b\n",
    "\n",
    "@cython.cdivision(True)\n",
    "cdef double test_cy2(double x, double c):\n",
    "    return sqrt(x) / c\n",
    "\n",
    "cdef double integrand_cy(double x, double a, double b, double c):\n",
    "    return test_cy1(x, a, b) * test_cy2(x, c)\n",
    "\n",
    "def integ_cy(double[:] vec, *args):\n",
    "    cdef Py_ssize_t n = vec.shape[0]\n",
    "    res = np.empty(n-1)\n",
    "    cdef double[:] resv = res\n",
    "    cdef Py_ssize_t i\n",
    "    for i in range(n-1):\n",
    "        resv[i] = quad(integrand_cy, vec[i], vec[i+1], args=(*args,))[0]\n",
    "    return res"
   ]
  },
  {
   "cell_type": "code",
   "execution_count": 52,
   "metadata": {},
   "outputs": [
    {
     "name": "stdout",
     "output_type": "stream",
     "text": [
      "495 µs ± 7.32 µs per loop (mean ± std. dev. of 7 runs, 1000 loops each)\n"
     ]
    }
   ],
   "source": [
    "%timeit integ_cy(vec, a, b, c)"
   ]
  },
  {
   "cell_type": "code",
   "execution_count": 54,
   "metadata": {},
   "outputs": [
    {
     "data": {
      "text/plain": [
       "True"
      ]
     },
     "execution_count": 54,
     "metadata": {},
     "output_type": "execute_result"
    }
   ],
   "source": [
    "np.allclose(integ_py(vec, a, b, c), integ_cy(vec, a, b, c))"
   ]
  },
  {
   "cell_type": "markdown",
   "metadata": {},
   "source": [
    "# Memoryview is not effective since the result of quad function is not C type double."
   ]
  },
  {
   "cell_type": "markdown",
   "metadata": {},
   "source": [
    "# Using Python function in integrand"
   ]
  },
  {
   "cell_type": "code",
   "execution_count": 60,
   "metadata": {},
   "outputs": [],
   "source": [
    "from math import exp\n",
    "from scipy.integrate import quad\n",
    "from scipy.special import erfc\n",
    "import numpy as np\n",
    "\n",
    "def test_py1(x, a, b):\n",
    "    return erfc(x) * a + b\n",
    "\n",
    "def test_py2(x, c):\n",
    "    return exp(x) / c\n",
    "\n",
    "def integrand_py(x, a, b, c):\n",
    "    return test_py1(x, a, b) * test_py2(x, c)"
   ]
  },
  {
   "cell_type": "code",
   "execution_count": 62,
   "metadata": {},
   "outputs": [],
   "source": [
    "a = 2.0\n",
    "b = 3.0\n",
    "c = 4.0"
   ]
  },
  {
   "cell_type": "code",
   "execution_count": 63,
   "metadata": {},
   "outputs": [
    {
     "name": "stdout",
     "output_type": "stream",
     "text": [
      "218 µs ± 6.16 µs per loop (mean ± std. dev. of 7 runs, 1000 loops each)\n"
     ]
    }
   ],
   "source": [
    "%timeit quad(integrand_py,0, 100, args=(a, b, c))"
   ]
  },
  {
   "cell_type": "markdown",
   "metadata": {},
   "source": [
    "# Simply converting to Cython"
   ]
  },
  {
   "cell_type": "code",
   "execution_count": 64,
   "metadata": {},
   "outputs": [],
   "source": [
    "%%cython\n",
    "from math import exp\n",
    "from scipy.integrate import quad\n",
    "from scipy.special import erfc\n",
    "import numpy as np\n",
    "\n",
    "def test_cy1(x, a, b):\n",
    "    return erfc(x) * a + b\n",
    "\n",
    "def test_cy2(x, c):\n",
    "    return exp(x) / c\n",
    "\n",
    "def integrand_cy(x, a, b, c):\n",
    "    return test_cy1(x, a, b) * test_cy2(x, c)"
   ]
  },
  {
   "cell_type": "code",
   "execution_count": 65,
   "metadata": {},
   "outputs": [
    {
     "name": "stdout",
     "output_type": "stream",
     "text": [
      "187 µs ± 826 ns per loop (mean ± std. dev. of 7 runs, 10000 loops each)\n"
     ]
    }
   ],
   "source": [
    "%timeit quad(integrand_cy,0, 100, args=(a, b, c))"
   ]
  },
  {
   "cell_type": "markdown",
   "metadata": {},
   "source": [
    "# Convert to C library"
   ]
  },
  {
   "cell_type": "code",
   "execution_count": 80,
   "metadata": {},
   "outputs": [],
   "source": [
    "%%cython\n",
    "from libc.math cimport exp, erfc\n",
    "from scipy.integrate import quad\n",
    "import numpy as np\n",
    "\n",
    "def test_cy1(x, a, b):\n",
    "    return erfc(x) * a + b\n",
    "\n",
    "def test_cy2(x, c):\n",
    "    return exp(x) / c\n",
    "\n",
    "def integrand_cy(x, a, b, c):\n",
    "    return test_cy1(x, a, b) * test_cy2(x, c)"
   ]
  },
  {
   "cell_type": "code",
   "execution_count": 81,
   "metadata": {},
   "outputs": [
    {
     "name": "stdout",
     "output_type": "stream",
     "text": [
      "30.5 µs ± 294 ns per loop (mean ± std. dev. of 7 runs, 10000 loops each)\n"
     ]
    }
   ],
   "source": [
    "%timeit quad(integrand_cy,0, 100, args=(a, b, c))"
   ]
  },
  {
   "cell_type": "code",
   "execution_count": 82,
   "metadata": {},
   "outputs": [
    {
     "data": {
      "text/plain": [
       "0.0"
      ]
     },
     "execution_count": 82,
     "metadata": {},
     "output_type": "execute_result"
    }
   ],
   "source": [
    "integrand_cy(1, 2, 3, 4) - integrand_py(1, 2, 3, 4)"
   ]
  },
  {
   "cell_type": "markdown",
   "metadata": {},
   "source": [
    "# Static type for function 1"
   ]
  },
  {
   "cell_type": "code",
   "execution_count": 83,
   "metadata": {},
   "outputs": [],
   "source": [
    "%%cython\n",
    "from libc.math cimport exp, erfc\n",
    "from scipy.integrate import quad\n",
    "import numpy as np\n",
    "\n",
    "cdef double test_cy1(double x, double a, double b):\n",
    "    return erfc(x) * a + b\n",
    "\n",
    "def test_cy2(x, c):\n",
    "    return exp(x) / c\n",
    "\n",
    "def integrand_cy(x, a, b, c):\n",
    "    return test_cy1(x, a, b) * test_cy2(x, c)"
   ]
  },
  {
   "cell_type": "code",
   "execution_count": 84,
   "metadata": {},
   "outputs": [
    {
     "name": "stdout",
     "output_type": "stream",
     "text": [
      "23.7 µs ± 183 ns per loop (mean ± std. dev. of 7 runs, 10000 loops each)\n"
     ]
    }
   ],
   "source": [
    "%timeit quad(integrand_cy,0, 100, args=(a, b, c))"
   ]
  },
  {
   "cell_type": "markdown",
   "metadata": {},
   "source": [
    "# Static type for function 2"
   ]
  },
  {
   "cell_type": "code",
   "execution_count": 85,
   "metadata": {},
   "outputs": [],
   "source": [
    "%%cython\n",
    "from libc.math cimport exp, erfc\n",
    "from scipy.integrate import quad\n",
    "import numpy as np\n",
    "\n",
    "cdef double test_cy1(double x, double a, double b):\n",
    "    return erfc(x) * a + b\n",
    "\n",
    "cdef double test_cy2(double x, double c):\n",
    "    return exp(x) / c\n",
    "\n",
    "def integrand_cy(x, a, b, c):\n",
    "    return test_cy1(x, a, b) * test_cy2(x, c)"
   ]
  },
  {
   "cell_type": "code",
   "execution_count": 86,
   "metadata": {},
   "outputs": [
    {
     "name": "stdout",
     "output_type": "stream",
     "text": [
      "15.7 µs ± 72.9 ns per loop (mean ± std. dev. of 7 runs, 100000 loops each)\n"
     ]
    }
   ],
   "source": [
    "%timeit quad(integrand_cy,0, 100, args=(a, b, c))"
   ]
  },
  {
   "cell_type": "code",
   "execution_count": 74,
   "metadata": {},
   "outputs": [
    {
     "name": "stdout",
     "output_type": "stream",
     "text": [
      " "
     ]
    },
    {
     "data": {
      "text/plain": [
       "         9 function calls in 0.001 seconds\n",
       "\n",
       "   Ordered by: internal time\n",
       "\n",
       "   ncalls  tottime  percall  cumtime  percall filename:lineno(function)\n",
       "        1    0.001    0.001    0.001    0.001 {built-in method scipy.integrate._quadpack._qagse}\n",
       "        1    0.000    0.000    0.001    0.001 {built-in method builtins.exec}\n",
       "        1    0.000    0.000    0.001    0.001 quadpack.py:44(quad)\n",
       "        1    0.000    0.000    0.001    0.001 quadpack.py:435(_quad)\n",
       "        1    0.000    0.000    0.001    0.001 <string>:1(<module>)\n",
       "        1    0.000    0.000    0.000    0.000 {built-in method builtins.min}\n",
       "        1    0.000    0.000    0.000    0.000 {built-in method builtins.max}\n",
       "        1    0.000    0.000    0.000    0.000 {built-in method builtins.isinstance}\n",
       "        1    0.000    0.000    0.000    0.000 {method 'disable' of '_lsprof.Profiler' objects}"
      ]
     },
     "metadata": {},
     "output_type": "display_data"
    }
   ],
   "source": [
    "%prun quad(integrand_cy, 0, 100, args=(a, b, c))"
   ]
  },
  {
   "cell_type": "code",
   "execution_count": 75,
   "metadata": {},
   "outputs": [
    {
     "name": "stdout",
     "output_type": "stream",
     "text": [
      " "
     ]
    },
    {
     "data": {
      "text/plain": [
       "         597 function calls in 0.001 seconds\n",
       "\n",
       "   Ordered by: internal time\n",
       "\n",
       "   ncalls  tottime  percall  cumtime  percall filename:lineno(function)\n",
       "      147    0.000    0.000    0.000    0.000 <ipython-input-60-2b26337c2046>:6(test_py1)\n",
       "      147    0.000    0.000    0.001    0.000 <ipython-input-60-2b26337c2046>:12(integrand_py)\n",
       "        1    0.000    0.000    0.001    0.001 {built-in method scipy.integrate._quadpack._qagse}\n",
       "      147    0.000    0.000    0.000    0.000 <ipython-input-60-2b26337c2046>:9(test_py2)\n",
       "        1    0.000    0.000    0.001    0.001 {built-in method builtins.exec}\n",
       "      147    0.000    0.000    0.000    0.000 {built-in method math.exp}\n",
       "        1    0.000    0.000    0.001    0.001 quadpack.py:44(quad)\n",
       "        1    0.000    0.000    0.001    0.001 quadpack.py:435(_quad)\n",
       "        1    0.000    0.000    0.001    0.001 <string>:1(<module>)\n",
       "        1    0.000    0.000    0.000    0.000 {built-in method builtins.max}\n",
       "        1    0.000    0.000    0.000    0.000 {built-in method builtins.min}\n",
       "        1    0.000    0.000    0.000    0.000 {built-in method builtins.isinstance}\n",
       "        1    0.000    0.000    0.000    0.000 {method 'disable' of '_lsprof.Profiler' objects}"
      ]
     },
     "metadata": {},
     "output_type": "display_data"
    }
   ],
   "source": [
    "%prun quad(integrand_py, 0, 100, args=(a, b, c))"
   ]
  },
  {
   "cell_type": "code",
   "execution_count": 79,
   "metadata": {},
   "outputs": [
    {
     "name": "stdout",
     "output_type": "stream",
     "text": [
      "0.15729920705028513\n"
     ]
    }
   ],
   "source": [
    "%%cython\n",
    "from libc.math cimport erf, erfc\n",
    "print(erfc(1))"
   ]
  }
 ],
 "metadata": {
  "kernelspec": {
   "display_name": "Python 3",
   "language": "python",
   "name": "python3"
  },
  "language_info": {
   "codemirror_mode": {
    "name": "ipython",
    "version": 3
   },
   "file_extension": ".py",
   "mimetype": "text/x-python",
   "name": "python",
   "nbconvert_exporter": "python",
   "pygments_lexer": "ipython3",
   "version": "3.7.3"
  }
 },
 "nbformat": 4,
 "nbformat_minor": 2
}
