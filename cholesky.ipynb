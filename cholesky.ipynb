{
 "cells": [
  {
   "cell_type": "markdown",
   "metadata": {},
   "source": [
    "# Conditions for local minima"
   ]
  },
  {
   "cell_type": "markdown",
   "metadata": {},
   "source": [
    "The necessary conditions for $\\mathbf{k^*}$ being a local minimizer is\n",
    "\\begin{equation}\n",
    "\\mathbf{g}(\\mathbf{k^*})=\\mathbf{0}\n",
    "\\end{equation}\n",
    "and\n",
    "\\begin{equation}\n",
    "\\mathbf{s}^\\top\\mathbf{H}(\\mathbf{k^*})\\mathbf{s}\\geq 0,\\hspace{5mm}\\forall\\mathbf{s}\n",
    "\\end{equation}"
   ]
  },
  {
   "cell_type": "markdown",
   "metadata": {},
   "source": [
    "The sufficient condition for a strict and isolated local minimizer $\\mathbf{k^*}$ is that $\\mathbf{H}(\\mathbf{k^*})$ is positive definite,\n",
    "\\begin{equation}\n",
    "\\mathbf{s}^\\top\\mathbf{H}(\\mathbf{k^*})\\mathbf{s}>0\\hspace{5mm}\\forall\\mathbf{s}\\neq\\mathbf{0}\n",
    "\\end{equation}"
   ]
  },
  {
   "cell_type": "markdown",
   "metadata": {},
   "source": [
    "For the numerical check of positive definite matrix, Cholesky factorization is usefull. Matrix $\\mathbf{H}$ is positive definite when the Cholesky factor\n",
    "\\begin{equation}\n",
    "\\mathbf{H}=\\mathbf{L}\\mathbf{L}^\\top\n",
    "\\end{equation}\n",
    "exits and all $l_{ii}>0$."
   ]
  },
  {
   "cell_type": "code",
   "execution_count": null,
   "metadata": {},
   "outputs": [],
   "source": [
    "def cholesky(A, p):\n",
    "    C = np.zeros((p,p))\n",
    "    j = 0\n",
    "    pd = True\n",
    "    \n",
    "    while pd and j < p:\n",
    "        sum = 0\n",
    "        \n",
    "        for k in range(j):\n",
    "            sum += C[j, k]**2\n",
    "            \n",
    "        d = A[j, j] - sum\n",
    "        \n",
    "        if d > 0:\n",
    "            C[j, j] = np.sqrt(d)\n",
    "            \n",
    "            for i in range(j,p):\n",
    "                sum = 0\n",
    "                for k in range(j):\n",
    "                    sum += C[i, k] * C[j, k]\n",
    "                C[i, j] = (A[i, j]-sum) / C[j, j]\n",
    "                \n",
    "        else:\n",
    "            pd = False\n",
    "            \n",
    "        j += 1\n",
    "        \n",
    "    return C, pd\n",
    "\n",
    "\n",
    "\n",
    "def cholsolve(A, b, mu, p):\n",
    "    I = np.eye(p)\n",
    "    mA = np.amax(abs(A))\n",
    "    \n",
    "    \n",
    "    if mu != 0:\n",
    "        pd = False\n",
    "\n",
    "        while pd == False:\n",
    "            C, pd = cholesky(A + mu * I, p)\n",
    "\n",
    "            # check for near singularity\n",
    "            if pd == True:\n",
    "                pd = (1 / LA.cond(C,1) >= 1e-15)\n",
    "            if pd == False:\n",
    "                mu = max(10 * mu, np.finfo(float).eps * mA)\n",
    "    else:\n",
    "        C, pd = cholesky(A, p)\n",
    "        assert pd, \"non positive definite A\"\n",
    "            \n",
    "            \n",
    "    # CC^Tx = b\n",
    "    z = np.zeros(p)\n",
    "    x = np.zeros(p)\n",
    "    # Forward C^Tx = z\n",
    "    \n",
    "    for i in range(p):\n",
    "        sum = 0\n",
    "        for j in range(i):\n",
    "            sum += C[i][j] * z[j]\n",
    "            \n",
    "        z[i] = (b[i]-sum) / C[i][i]\n",
    "        \n",
    "    # Backward Cz = b\n",
    "    for i in reversed(range(p)):\n",
    "        sum = 0\n",
    "        for j in range(i,p):\n",
    "            sum += C[j][i] * x[j]\n",
    "            \n",
    "        x[i] = (z[i]-sum) / C[i][i]\n",
    "        \n",
    "    return x, mu"
   ]
  }
 ],
 "metadata": {
  "kernelspec": {
   "display_name": "Python 3",
   "language": "python",
   "name": "python3"
  },
  "language_info": {
   "codemirror_mode": {
    "name": "ipython",
    "version": 3
   },
   "file_extension": ".py",
   "mimetype": "text/x-python",
   "name": "python",
   "nbconvert_exporter": "python",
   "pygments_lexer": "ipython3",
   "version": "3.7.3"
  }
 },
 "nbformat": 4,
 "nbformat_minor": 2
}
