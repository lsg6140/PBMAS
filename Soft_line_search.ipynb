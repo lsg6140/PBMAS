{
 "cells": [
  {
   "cell_type": "markdown",
   "metadata": {},
   "source": [
    "# Soft line search"
   ]
  },
  {
   "cell_type": "markdown",
   "metadata": {},
   "source": [
    "We want to find $\\alpha$ which minimizes the objective function $f$\n",
    "\\begin{equation}\n",
    "\\xi(\\alpha)=f(\\mathbf{k}+\\alpha\\mathbf{h})\n",
    "\\end{equation}"
   ]
  },
  {
   "cell_type": "markdown",
   "metadata": {},
   "source": [
    "The derivatives along any line $\\mathbf{k}(\\alpha)=\\mathbf{k}+\\alpha\\mathbf{h}$ is\n",
    "\\begin{equation}\n",
    "\\frac{\\text{d}}{\\text{d}\\alpha}=\\sum_i\\frac{\\text{d}k_i(\\alpha)}{\\text{d}\\alpha}\\frac{\\partial}{\\partial k_i}=\\sum_i h_i\\frac{\\partial}{\\partial k_i}=\\mathbf{h}^\\top\\nabla\n",
    "\\end{equation}"
   ]
  },
  {
   "cell_type": "markdown",
   "metadata": {},
   "source": [
    "Hence,\n",
    "\\begin{align}\n",
    "\\frac{\\text{d}f}{\\text{d}\\alpha}&=\\mathbf{h}^\\top\\nabla f=\\nabla f^\\top\\mathbf{h}\\\\\n",
    "       &=\\mathbf{h}^\\top\\mathbf{g(\\mathbf{k}+\\alpha\\mathbf{h})}=\\mathbf{g}(\\mathbf{k}+\\alpha\\mathbf{h})^\\top\\mathbf{h}\n",
    "\\end{align}"
   ]
  },
  {
   "cell_type": "markdown",
   "metadata": {},
   "source": [
    "The curvature along the line is\n",
    "\\begin{align}\n",
    "\\frac{\\text{d}^2f}{\\text{d}\\alpha^2}&=\\frac{\\text{d}}{\\text{d}\\alpha}\\frac{\\text{d}f}{\\text{d}\\alpha}=\\mathbf{h}^\\top\\nabla\\left(\\nabla f^\\top\\mathbf{h}\\right)=\\mathbf{h}^\\top\\nabla^2f\\mathbf{h}\\\\\n",
    "&=\\mathbf{h}^\\top\\mathbf{H}(\\mathbf{k}+\\alpha\\mathbf{h})\\mathbf{h}\n",
    "\\end{align}"
   ]
  },
  {
   "cell_type": "markdown",
   "metadata": {},
   "source": [
    "So\n",
    "\\begin{equation}\n",
    "\\xi(0)=f(\\mathbf{k})\n",
    "\\end{equation}\n",
    "\\begin{equation}\n",
    "\\xi'(0)=\\mathbf{h}^\\top\\mathbf{g}(\\mathbf{k})\n",
    "\\end{equation}"
   ]
  },
  {
   "cell_type": "markdown",
   "metadata": {},
   "source": [
    "The Wolfe-Powell conditions accepting $\\alpha$ are\n",
    "\\begin{equation}\n",
    "\\xi(\\alpha)\\leq \\xi(0)+\\rho \\xi'(0)\\alpha\n",
    "\\end{equation}\n",
    "and \n",
    "\\begin{equation}\n",
    "\\xi'(\\alpha)\\geq\\sigma \\xi'(0)\n",
    "\\end{equation}\n",
    "with $0<\\rho<0.5$ and $\\rho<\\sigma<1$. Usually, $\\rho=0.001$ and $\\sigma=0.1$."
   ]
  },
  {
   "cell_type": "markdown",
   "metadata": {},
   "source": [
    "Hence, it should be\n",
    "\\begin{equation}\n",
    "f(\\mathbf{k}+\\alpha\\mathbf{h})\\leq f(\\mathbf{k})+\\rho\\mathbf{h}^\\top\\mathbf{g}(\\mathbf{k})\\alpha\n",
    "\\end{equation}\n",
    "and\n",
    "\\begin{equation}\n",
    "\\mathbf{h}^\\top\\mathbf{g}(\\mathbf{k}+\\alpha\\mathbf{h})\\geq\\sigma\\mathbf{h}^\\top\\mathbf{g}(\\mathbf{k})\n",
    "\\end{equation}\n",
    "\n"
   ]
  },
  {
   "cell_type": "markdown",
   "metadata": {},
   "source": [
    "In practice two-sided test is preferred.\n",
    "\\begin{equation}\n",
    "\\vert f'(\\alpha)\\vert\\leq-\\sigma f'(0)\n",
    "\\end{equation}"
   ]
  },
  {
   "cell_type": "markdown",
   "metadata": {},
   "source": [
    "R.Fletcher (2000)"
   ]
  },
  {
   "cell_type": "markdown",
   "metadata": {},
   "source": [
    "## Algorithm of line search"
   ]
  },
  {
   "cell_type": "markdown",
   "metadata": {},
   "source": [
    "1. Bracketing phase:\n",
    "\n",
    "Find a bracket, that is a non-trivial interval which is known to contain an interval of acceptable points.\n",
    "\n",
    "2. Sectioning phase:\n",
    "\n",
    "The bracket is sectioned so as to generate a sequence of brackets whose length tends to zero."
   ]
  },
  {
   "cell_type": "markdown",
   "metadata": {},
   "source": [
    "The second order polynormial\n",
    "\\begin{equation}\n",
    "g(t) = f(a) + f'(a)(t-a) + c(t-a)^2\n",
    "\\end{equation}\n",
    "satisfies $g(a) = f(a)$, $g'(a) = f'(a)$, and $g(b) = f(b)$.\n",
    "\n",
    "We can calculate $c$ as\n",
    "\\begin{equation}\n",
    "c=\\frac{f(b)-f(a)-f'(a)(b-a)}{(b-a)^2}\n",
    "\\end{equation}\n",
    "If $c>0$, then $g(t)$ is minimum at $a-\\frac{f'(a)}{2c}\\in[a, b]$"
   ]
  },
  {
   "cell_type": "markdown",
   "metadata": {},
   "source": [
    "If $c>0$, then $\\alpha=a-\\frac{f'(a)}{2c}$ and $\\alpha=\\frac{a+b}{2}$ otherwise."
   ]
  },
  {
   "cell_type": "markdown",
   "metadata": {},
   "source": [
    "## Cubic Hermite spline\n",
    "Cubic polynomial interpolating with $\\xi(\\alpha_i), \\xi'(\\alpha_i), \\xi(\\alpha_{i-1})$, and $\\xi'(\\alpha_{i-1})$ can be done with cubic Hermite spline."
   ]
  },
  {
   "cell_type": "code",
   "execution_count": 40,
   "metadata": {},
   "outputs": [],
   "source": [
    "def quadratic_interpolate(x1, x2, a, b, fa, fb, dfa):\n",
    "    def qp(x):\n",
    "        return fa + dfa * (x - a) + (fb - fa - (b - a) * dfa) * (x - a)**2 / (b - a)**2           \n",
    "    fit = minimize(qp, x0=a, bounds=((x1,x2),))\n",
    "    return fit.x"
   ]
  },
  {
   "cell_type": "code",
   "execution_count": 46,
   "metadata": {},
   "outputs": [],
   "source": [
    "def qp_test(x, a, b, fa, fb, dfa):\n",
    "    return fa + dfa * (x - a) + (fb - fa - (b - a) * dfa) * (x - a)**2 / (b - a)**2 "
   ]
  },
  {
   "cell_type": "code",
   "execution_count": 68,
   "metadata": {},
   "outputs": [],
   "source": [
    "x = np.linspace(-2, 2, 100)\n",
    "a = -3\n",
    "b = 2\n",
    "fa = 2\n",
    "fb = 2\n",
    "dfa = -2"
   ]
  },
  {
   "cell_type": "code",
   "execution_count": 70,
   "metadata": {},
   "outputs": [
    {
     "data": {
      "text/plain": [
       "array([-0.50000001])"
      ]
     },
     "execution_count": 70,
     "metadata": {},
     "output_type": "execute_result"
    }
   ],
   "source": [
    "quadratic_interpolate(-2, 2, a, b, fa, fb, dfa)"
   ]
  },
  {
   "cell_type": "code",
   "execution_count": 69,
   "metadata": {},
   "outputs": [
    {
     "data": {
      "text/plain": [
       "[<matplotlib.lines.Line2D at 0x7f6075e3f0f0>]"
      ]
     },
     "execution_count": 69,
     "metadata": {},
     "output_type": "execute_result"
    },
    {
     "data": {
      "image/png": "[encoded data removed]",
      "text/plain": [
       "<Figure size 432x288 with 1 Axes>"
      ]
     },
     "metadata": {
      "needs_background": "light"
     },
     "output_type": "display_data"
    }
   ],
   "source": [
    "plt.plot(x, qp_test(x, a, b, fa, fb, dfa))"
   ]
  },
  {
   "cell_type": "code",
   "execution_count": null,
   "metadata": {},
   "outputs": [],
   "source": [
    "phi, yhat, t, params, n, p, N, Q, S_old, scalar, delta, *args)\n",
    "\n",
    "Y, H, g, S, r, fail"
   ]
  },
  {
   "cell_type": "markdown",
   "metadata": {},
   "source": [
    "```python\n",
    "print \"Hello World\"\n",
    "```"
   ]
  },
  {
   "cell_type": "code",
   "execution_count": null,
   "metadata": {},
   "outputs": [],
   "source": [
    "import numpy as np\n",
    "from numpy import linalg as LA\n",
    "\n",
    "from solve_tools import eval_objective_func\n",
    "\n",
    "def soft_linesearch(h, g, phi, yhat, t, params, n, p, N, Q, S_old, scalar, delta, amax, kmax, *args):\n",
    "    rho = 0.001\n",
    "    sigma = 0.1\n",
    "    df0 = h @ g\n",
    "    f0 = S_old\n",
    "    \n",
    "    \n",
    "    if df0 >= -10 * np.finfo(float).eps * LA.norm(h, 2) * LA.norm(g, 2):\n",
    "        return 0\n",
    "    \n",
    "    a = 0\n",
    "    b = min(1, amax)\n",
    "    \n",
    "    # bracketing phase\n",
    "    while True:\n",
    "        Y, H, gb, fb, _, fail = eval_objective_func(phi, yhat, t, params + b * h, n, p, N, Q, S_old, scalar, delta, *args)\n",
    "        if fail == -1: # integration failed\n",
    "            break\n",
    "        dfb = h @ gb\n",
    "        if fb < f0 + rho * df0 * b and dfb < sigma * df0 and b < amax and k < kmax:\n",
    "            k += 1\n",
    "            a = b\n",
    "            fa = fb\n",
    "            dfa = dfb\n",
    "            \n",
    "            if 2.5 * b >= amax:\n",
    "                b = amax\n",
    "            else:\n",
    "                b *= 2\n",
    "        else:\n",
    "            break\n",
    "    \n",
    "    alpha = b\n",
    "    falpha = fb\n",
    "    dfalpha = dfb\n",
    "    # sectioning phase\n",
    "    while True:\n",
    "        if (falpha > f0 + rho * df0 * alpha or dfalpha < sigma * df0) and k < kmax:\n",
    "            k += 1\n",
    "            refine()\n",
    "        else:\n",
    "            break\n",
    "            \n",
    "    if falpha > f0:\n",
    "        alpha = 0\n",
    "        \n",
    "    def refine():\n",
    "        D = b - a\n",
    "        c = (fb - fa - D * dfa) / D**2\n",
    "\n",
    "        if c > 0:\n",
    "            alpha = a - dfa / (2 * c)\n",
    "            alpha = min(max(alpha, a + 0.1 * D), b - 0.1 * D)\n",
    "        else:\n",
    "            alpha = (a + b) / 2\n",
    "\n",
    "        Y, H, galpha, falpha, _, fail = eval_objective_func(phi, yhat, t, k + alpha * h, n, p, N, Q, S_old, scalar, delta, *args)\n",
    "\n",
    "        dfalpha = h @ gam\n",
    "        if fam < f0 + rho * df0 * alpha:\n",
    "            a = alpha\n",
    "            fa = falpha\n",
    "            dfa = dfalpha\n",
    "        else:\n",
    "            b = alpha\n",
    "            fb = falpha\n",
    "            dfb = dfalpha\n",
    "    \n",
    "    params += alpha * h\n",
    "            \n",
    "    return alpha, Y, H, galpha, falpha, fail           "
   ]
  },
  {
   "cell_type": "code",
   "execution_count": 13,
   "metadata": {},
   "outputs": [
    {
     "data": {
      "text/plain": [
       "2.220446049250313e-16"
      ]
     },
     "execution_count": 13,
     "metadata": {},
     "output_type": "execute_result"
    }
   ],
   "source": [
    "import numpy as np\n",
    "\n",
    "a = np.array([[1, 2], [3, 4]])\n",
    "b = np.array([2, 5])\n",
    "np.dot(b, np.dot(a, b))\n",
    "np.finfo(float).eps"
   ]
  },
  {
   "cell_type": "code",
   "execution_count": 16,
   "metadata": {},
   "outputs": [],
   "source": [
    "fail = 0\n",
    "if fail:\n",
    "    print('true')"
   ]
  }
 ],
 "metadata": {
  "kernelspec": {
   "display_name": "Python 3",
   "language": "python",
   "name": "python3"
  },
  "language_info": {
   "codemirror_mode": {
    "name": "ipython",
    "version": 3
   },
   "file_extension": ".py",
   "mimetype": "text/x-python",
   "name": "python",
   "nbconvert_exporter": "python",
   "pygments_lexer": "ipython3",
   "version": "3.7.3"
  }
 },
 "nbformat": 4,
 "nbformat_minor": 2
}
