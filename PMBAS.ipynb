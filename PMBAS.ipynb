{
 "cells": [
  {
   "cell_type": "markdown",
   "metadata": {},
   "source": [
    "# Data importing"
   ]
  },
  {
   "cell_type": "code",
   "execution_count": 2,
   "metadata": {},
   "outputs": [],
   "source": [
    "import pandas as pd\n",
    "import numpy as np\n",
    "\n",
    "df = pd.read_csv('particle_size.csv')\n",
    "data = df.to_numpy()\n",
    "L = data[:,0]\n",
    "V = data[:,1:]/100   # Convert probability to density\n",
    "Nbr = np.empty(np.shape(V)) # Number density\n",
    "df2 = pd.read_csv('lognormal.csv')\n",
    "data2 = df2.to_numpy()\n",
    "mu = data2[0:4,-1][1:]\n",
    "sigma = data2[4:,-1][1:]\n",
    "T = np.array([0.,44.,88.,154.,330.,551.])\n",
    "k0 = np.array([1e-7,0.8,0.15])\n",
    "\n",
    "n = np.size(L)\n",
    "N = np.size(T)\n",
    "p = np.size(k0)\n",
    "\n",
    "Q = np.diag(L**3)\n",
    "\n",
    "# Volume to Number\n",
    "for i in range(N):\n",
    "    Nbr[:,i] = np.divide(V[:,i],L**3)\n",
    "    \n",
    "N0 = Nbr[:,0]\n",
    "m00 = np.sum(N0)\n",
    "m10 = np.sum(L@N0)\n",
    "m20 = np.sum(np.power(L,2)@N0)\n",
    "m30 = np.sum(np.power(L,3)@N0)\n",
    "Y0 = np.append(N0,[m00,m10,m20,m30])"
   ]
  },
  {
   "cell_type": "code",
   "execution_count": 3,
   "metadata": {},
   "outputs": [],
   "source": [
    "from lognormal import breakagefunc, selectionfunc\n",
    "from "
   ]
  },
  {
   "cell_type": "code",
   "execution_count": null,
   "metadata": {},
   "outputs": [],
   "source": []
  },
  {
   "cell_type": "code",
   "execution_count": null,
   "metadata": {},
   "outputs": [],
   "source": []
  }
 ],
 "metadata": {
  "kernelspec": {
   "display_name": "Python 3",
   "language": "python",
   "name": "python3"
  },
  "language_info": {
   "codemirror_mode": {
    "name": "ipython",
    "version": 3
   },
   "file_extension": ".py",
   "mimetype": "text/x-python",
   "name": "python",
   "nbconvert_exporter": "python",
   "pygments_lexer": "ipython3",
   "version": "3.7.3"
  }
 },
 "nbformat": 4,
 "nbformat_minor": 2
}
