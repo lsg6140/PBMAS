{
 "cells": [
  {
   "cell_type": "markdown",
   "metadata": {},
   "source": [
    "Codes with pure python is slow."
   ]
  },
  {
   "cell_type": "markdown",
   "metadata": {},
   "source": [
    "Time for discretization and ODE solving takes"
   ]
  },
  {
   "cell_type": "code",
   "execution_count": 5,
   "metadata": {},
   "outputs": [
    {
     "name": "stdout",
     "output_type": "stream",
     "text": [
      "discretizing...\n",
      "discretization takes 283.452857 seconds\n",
      "Solving ODE...\n",
      "solving ODE takes 42.851461 seconds\n"
     ]
    }
   ],
   "source": [
    "%run solve_ode.py"
   ]
  },
  {
   "cell_type": "markdown",
   "metadata": {},
   "source": [
    "# Optimizing breakage and selection functions with Cython"
   ]
  },
  {
   "cell_type": "markdown",
   "metadata": {},
   "source": [
    "Code for breakage function with lognormal distribution and selection function in `lognormal.py` is shown below. "
   ]
  },
  {
   "cell_type": "code",
   "execution_count": null,
   "metadata": {},
   "outputs": [],
   "source": [
    "def lnpdf(x, m, sg):\n",
    "    num = np.exp(-(np.log(x) - m)**2 / (2 * sg**2))\n",
    "    den = x * sg * np.sqrt(2 * np.pi)\n",
    "    return num / den\n",
    "\n",
    "def lognorm_b(x, y, m, sg):\n",
    "    assert sg > 0, \"sigma must be larger than 0\"\n",
    "   \n",
    "    num = lnpdf(x, m, sg)\n",
    "    den = erfc(-(np.log(y) - m) / (np.sqrt(2) * sg))/2\n",
    "\n",
    "    # In case 'y' is too small compared to 'mu',\n",
    "    # 'den' can be numerically zero \n",
    "    # if it is smaller than the machine precision epsilon \n",
    "    # which is not correct theoretically\n",
    "    if den == 0:\n",
    "        den = np.finfo(float).eps\n",
    "    # convert volume to number\n",
    "    return (y / x)**3 * num / den\n",
    "\n",
    "def breakagefunc(x, y, k, *args):\n",
    "    mu = args[0]\n",
    "    sigma = args[1]\n",
    "    res = k[1] * lognorm_b(x, y, mu[0], sigma[0])\\\n",
    "        + k[2] * lognorm_b(x, y, mu[1], sigma[1])\\\n",
    "        + (1 - k[1] - k[2]) * lognorm_b(x, y, mu[2], sigma[2])\n",
    "    return res\n",
    "\n",
    "def selectionfunc(y, k, *args):\n",
    "    return k[0] * y**3"
   ]
  },
  {
   "cell_type": "markdown",
   "metadata": {},
   "source": [
    "Benchmark result is"
   ]
  },
  {
   "cell_type": "code",
   "execution_count": 1,
   "metadata": {},
   "outputs": [
    {
     "name": "stdout",
     "output_type": "stream",
     "text": [
      "breakage function takes 26.58 μs.\n"
     ]
    }
   ],
   "source": [
    "import benchmark\n",
    "\n",
    "benchmark.breakage('python')"
   ]
  },
  {
   "cell_type": "code",
   "execution_count": 2,
   "metadata": {},
   "outputs": [
    {
     "name": "stdout",
     "output_type": "stream",
     "text": [
      "breakage function takes  0.60 μs.\n"
     ]
    }
   ],
   "source": [
    "benchmark.selection('python')"
   ]
  },
  {
   "cell_type": "markdown",
   "metadata": {},
   "source": [
    "## Simply cythonize without modification"
   ]
  },
  {
   "cell_type": "markdown",
   "metadata": {},
   "source": [
    "Compling was done with `setup.py`\n",
    "\n",
    "`$ python setup.py bulid_ext -i`"
   ]
  },
  {
   "cell_type": "code",
   "execution_count": 1,
   "metadata": {},
   "outputs": [
    {
     "name": "stdout",
     "output_type": "stream",
     "text": [
      "breakage function takes 20.80 μs.\n"
     ]
    }
   ],
   "source": [
    "import benchmark\n",
    "\n",
    "benchmark.breakage('cython')"
   ]
  },
  {
   "cell_type": "code",
   "execution_count": 2,
   "metadata": {},
   "outputs": [
    {
     "name": "stdout",
     "output_type": "stream",
     "text": [
      "breakage function takes  0.37 μs.\n"
     ]
    }
   ],
   "source": [
    "benchmark.selection('cython')"
   ]
  },
  {
   "cell_type": "markdown",
   "metadata": {},
   "source": [
    "## Use C library for math functions"
   ]
  },
  {
   "cell_type": "markdown",
   "metadata": {},
   "source": [
    "Cythonized code in `lognormal_cy.pyx` is shown below "
   ]
  },
  {
   "cell_type": "code",
   "execution_count": null,
   "metadata": {},
   "outputs": [],
   "source": [
    "import numpy as np\n",
    "from libc.math cimport exp, log, sqrt, erfc\n",
    "\n",
    "def lnpdf(x, m, sg):\n",
    "    num = exp(-(log(x) - m)**2 / (2 * sg**2))\n",
    "    den = x * sg * sqrt(2 * np.pi)\n",
    "    return num / den\n",
    "\n",
    "def lognorm_b(x, y, m, sg):\n",
    "    assert sg > 0, \"sigma must be larger than 0\"\n",
    "   \n",
    "    num = lnpdf(x, m, sg)\n",
    "    den = erfc(-(log(y) - m) / (sqrt(2) * sg))/2\n",
    "\n",
    "    if den == 0:\n",
    "        den = np.finfo(float).eps\n",
    "\n",
    "    return (y / x)**3 * num / den"
   ]
  },
  {
   "cell_type": "code",
   "execution_count": 1,
   "metadata": {},
   "outputs": [
    {
     "name": "stdout",
     "output_type": "stream",
     "text": [
      "breakage function takes  5.48 μs.\n"
     ]
    }
   ],
   "source": [
    "import benchmark\n",
    "\n",
    "benchmark.breakage('cython')"
   ]
  },
  {
   "cell_type": "code",
   "execution_count": 2,
   "metadata": {},
   "outputs": [
    {
     "name": "stdout",
     "output_type": "stream",
     "text": [
      "breakage function takes  0.42 μs.\n"
     ]
    }
   ],
   "source": [
    "benchmark.selection('cython')"
   ]
  },
  {
   "cell_type": "markdown",
   "metadata": {},
   "source": [
    "## Static types"
   ]
  },
  {
   "cell_type": "code",
   "execution_count": null,
   "metadata": {},
   "outputs": [],
   "source": [
    "cdef double lnpdf(double x, double m, double sg):\n",
    "    cdef double pi = 3.141592653589793115997963468544185161590576171875\n",
    "    cdef double num = exp(-(log(x) - m) ** 2 / (2 * sg**2))\n",
    "    cdef double den = x * sg * sqrt(2 * pi)\n",
    "    return num / den\n",
    "\n",
    "cdef double lognorm_b(double x, double y, double m, double sg):\n",
    "    assert sg > 0, \"sigma must be larger than 0\"\n",
    "    cdef double num = lnpdf(x, m, sg)\n",
    "    cdef double den = erfc(-(log(y) - m) / (sqrt(2) * sg)) / 2\n",
    "    if den == 0:\n",
    "        den = np.finfo(float).eps\n",
    "    return (y / x)**3 * num / den\n",
    "\n",
    "cpdef double breakagefunc(double x, double y, double[:] k, args):\n",
    "    cdef double[:] mu = args[0]\n",
    "    cdef double[:] sigma = args[1]\n",
    "    cdef double res = k[1] * lognorm_b(x, y, mu[0], sigma[0])\\\n",
    "                    + k[2] * lognorm_b(x, y, mu[1], sigma[1])\\\n",
    "                    + (1 - k[1] - k[2]) * lognorm_b(x, y, mu[2], sigma[2])\n",
    "    return res\n",
    "\n",
    "cpdef double selectionfunc(double y, double[:] k, args):\n",
    "    return k[0] * y**3"
   ]
  },
  {
   "cell_type": "code",
   "execution_count": 1,
   "metadata": {},
   "outputs": [
    {
     "name": "stdout",
     "output_type": "stream",
     "text": [
      "breakage function takes  1.65 μs.\n"
     ]
    }
   ],
   "source": [
    "import benchmark\n",
    "\n",
    "benchmark.breakage('cython')"
   ]
  },
  {
   "cell_type": "code",
   "execution_count": 2,
   "metadata": {},
   "outputs": [
    {
     "name": "stdout",
     "output_type": "stream",
     "text": [
      "breakage function takes  0.52 μs.\n"
     ]
    }
   ],
   "source": [
    "benchmark.selection('cython')"
   ]
  },
  {
   "cell_type": "markdown",
   "metadata": {},
   "source": [
    "Cythonization makes the breakage function more than 10 times faster but there is no significant improvement for selection function. "
   ]
  },
  {
   "cell_type": "markdown",
   "metadata": {},
   "source": [
    "# Optimizing discretization with Cython"
   ]
  },
  {
   "cell_type": "markdown",
   "metadata": {},
   "source": [
    "Code for discretization in `discretize.py` is shown below"
   ]
  },
  {
   "cell_type": "code",
   "execution_count": null,
   "metadata": {},
   "outputs": [],
   "source": [
    "def den_integrand(x, k, *args):\n",
    "    return x**3 * selectionfunc(x, k, *args)\n",
    "\n",
    "def num_integrand(x, y, k, *args):\n",
    "    return x**3 * selectionfunc(y, k, *args) * breakagefunc(x, y, k, *args)\n",
    "\n",
    "def breakage_discretize(L, n, k, *args):\n",
    "    L = np.insert(L, 0, 0)\n",
    "    res = np.zeros((n, n))\n",
    "\n",
    "    for i in range(n):\n",
    "        den, err = quad(den_integrand, L[i], L[i+1], args=(k, *args))\n",
    "        assert den != 0, 'breakage_discretize: division by zero'\n",
    "        for j in range(i):\n",
    "            num, err = dblquad(num_integrand, L[i], L[i+1],\n",
    "                               lambda x: L[j], lambda x: L[j+1],\n",
    "                               args=(k, *args))\n",
    "            Li = (L[i]+L[i+1])/2\n",
    "            Lj = (L[j]+L[j+1])/2\n",
    "            res[j, i] = (Li / Lj)**3 * num / den\n",
    "        num, err = dblquad(num_integrand, L[i], L[i+1],\n",
    "                           lambda x: L[i], lambda x: x,\n",
    "                           args=(k, *args))\n",
    "        res[i, i] = num / den\n",
    "        \n",
    "    return res \n",
    "\n",
    "def particle_number(x, k, *args): \n",
    "    res = quad(lambda a: breakagefunc(a, x, k, *args), 0, x)[0]\n",
    "    return res\n",
    "\n",
    "def selection_integrand(x, k, *args):\n",
    "    return (particle_number(x, k, *args) - 1) * selectionfunc(x, k, *args)\n",
    "\n",
    "def selection_discretize(L, n, k, breakage_mat, *args):\n",
    "    res = np.empty(n)\n",
    "    L = np.insert(L, 0, 0)\n",
    "    \n",
    "    for i in range(1, n):\n",
    "        integ = quad(selection_integrand, L[i], L[i+1], args=(k, *args))[0]\n",
    "        num = integ / (L[i+1] - L[i])\n",
    "        sum = np.sum(breakage_mat[:i+1, i])\n",
    "        den = sum - 1\n",
    "        assert den != 0, 'selection_discretize: division by zero'\n",
    "        res[i] = num / den\n",
    "        \n",
    "    res[0] = 0.0\n",
    "    return res"
   ]
  },
  {
   "cell_type": "markdown",
   "metadata": {},
   "source": [
    "Benchmark result is"
   ]
  },
  {
   "cell_type": "code",
   "execution_count": 1,
   "metadata": {},
   "outputs": [
    {
     "name": "stdout",
     "output_type": "stream",
     "text": [
      "No error\n"
     ]
    }
   ],
   "source": [
    "import benchmark\n",
    "\n",
    "benchmark.discretize_check()"
   ]
  },
  {
   "cell_type": "code",
   "execution_count": 2,
   "metadata": {},
   "outputs": [
    {
     "name": "stdout",
     "output_type": "stream",
     "text": [
      "discretization of breakage takes 23.956 s.\n",
      "discretization of selection takes 11.992 s.\n"
     ]
    }
   ],
   "source": [
    "benchmark.discretize('python')"
   ]
  },
  {
   "cell_type": "markdown",
   "metadata": {},
   "source": [
    "## Simply inserting cythonized lognormal function"
   ]
  },
  {
   "cell_type": "markdown",
   "metadata": {},
   "source": [
    "The `cdef` function cannot have starred argument `*args` for variable number of arguments as Python, `*args` should be converted to `args`. With this modification, simply inserting cythonized functions into `discretize.py` results in"
   ]
  },
  {
   "cell_type": "code",
   "execution_count": null,
   "metadata": {},
   "outputs": [],
   "source": [
    "def den_integrand(x, k, *args):\n",
    "    return x**3 * selectionfunc(x, k, args)\n",
    "\n",
    "def num_integrand(x, y, k, *args):\n",
    "    return x**3 * selectionfunc(y, k, args) * breakagefunc(x, y, k, args)\n",
    "\n",
    "def breakage_discretize(L, n, k, *args):\n",
    "    L = np.insert(L, 0, 0)\n",
    "    res = np.zeros((n, n))\n",
    "\n",
    "    for i in range(n):\n",
    "        den, err = quad(den_integrand, L[i], L[i+1], args=(k, *args))\n",
    "        assert den != 0, 'breakage_discretize: division by zero'\n",
    "        for j in range(i):\n",
    "            num, err = dblquad(num_integrand, L[i], L[i+1],\n",
    "                               lambda x: L[j], lambda x: L[j+1],\n",
    "                               args=(k, *args))\n",
    "            Li = (L[i]+L[i+1])/2\n",
    "            Lj = (L[j]+L[j+1])/2\n",
    "            res[j, i] = (Li / Lj)**3 * num / den\n",
    "        num, err = dblquad(num_integrand, L[i], L[i+1],\n",
    "                           lambda x: L[i], lambda x: x,\n",
    "                           args=(k, *args))\n",
    "        res[i, i] = num / den\n",
    "        \n",
    "    return res \n",
    "\n",
    "def particle_number(x, k, *args): \n",
    "    res = quad(lambda a: breakagefunc(a, x, k, args), 0, x)[0]\n",
    "    return res\n",
    "\n",
    "def selection_integrand(x, k, *args):\n",
    "    return (particle_number(x, k, *args) - 1) * selectionfunc(x, k, args)\n",
    "\n",
    "def selection_discretize(L, n, k, breakage_mat, *args):\n",
    "    res = np.empty(n)\n",
    "    L = np.insert(L, 0, 0)\n",
    "    \n",
    "    for i in range(1, n):\n",
    "        integ = quad(selection_integrand, L[i], L[i+1], args=(k, *args))[0]\n",
    "        num = integ / (L[i+1] - L[i])\n",
    "        sum = np.sum(breakage_mat[:i+1, i])\n",
    "        den = sum - 1\n",
    "        assert den != 0, 'selection_discretize: division by zero'\n",
    "        res[i] = num / den\n",
    "        \n",
    "    res[0] = 0.0\n",
    "    return res"
   ]
  },
  {
   "cell_type": "code",
   "execution_count": 1,
   "metadata": {},
   "outputs": [
    {
     "name": "stdout",
     "output_type": "stream",
     "text": [
      "No error\n"
     ]
    }
   ],
   "source": [
    "import benchmark\n",
    "\n",
    "benchmark.discretize_check()"
   ]
  },
  {
   "cell_type": "code",
   "execution_count": 2,
   "metadata": {},
   "outputs": [
    {
     "name": "stdout",
     "output_type": "stream",
     "text": [
      "discretization of breakage takes  2.018 s.\n",
      "discretization of selection takes  0.684 s.\n"
     ]
    }
   ],
   "source": [
    "benchmark.discretize('cython')"
   ]
  },
  {
   "cell_type": "markdown",
   "metadata": {},
   "source": [
    "## Add static types"
   ]
  },
  {
   "cell_type": "markdown",
   "metadata": {},
   "source": [
    "Closures inside `cpdef` functions is not supported so that a function using `lambda` function cannot be converted to a `cpdef` function."
   ]
  },
  {
   "cell_type": "code",
   "execution_count": null,
   "metadata": {},
   "outputs": [],
   "source": [
    "cpdef double den_integrand(double x, double[:] k, args):\n",
    "    return x**3 * selectionfunc(x, k, args)\n",
    "\n",
    "cpdef double num_integrand(double x, double y, double[:] k, args):\n",
    "    return x**3 * selectionfunc(y, k, args) * breakagefunc(x, y, k, args)\n",
    "\n",
    "def breakage_discretize(L, n, k, *args):\n",
    "    L = np.insert(L, 0, 0)\n",
    "    res = np.zeros((n, n))\n",
    "\n",
    "    for i in range(n):\n",
    "        den, err = quad(den_integrand, L[i], L[i+1], args=(k, args))\n",
    "        assert den != 0, 'breakage_discretize: division by zero'\n",
    "        for j in range(i):\n",
    "            num, err = dblquad(num_integrand, L[i], L[i+1],\n",
    "                               lambda x: L[j], lambda x: L[j+1],\n",
    "                               args=(k, args))\n",
    "            Li = (L[i]+L[i+1])/2\n",
    "            Lj = (L[j]+L[j+1])/2\n",
    "            res[j, i] = (Li / Lj)**3 * num / den\n",
    "        num, err = dblquad(num_integrand, L[i], L[i+1],\n",
    "                           lambda x: L[i], lambda x: x,\n",
    "                           args=(k, args))\n",
    "        res[i, i] = num / den\n",
    "        \n",
    "    return res \n",
    "\n",
    "def particle_number(double x, double[:] k, args): \n",
    "    res = quad(lambda a: breakagefunc(a, x, k, args), 0, x)[0]\n",
    "    return res\n",
    "\n",
    "cdef double selection_integrand(double x, double[:] k, args):\n",
    "    return (particle_number(x, k, args) - 1) * selectionfunc(x, k, args)\n",
    "\n",
    "def selection_discretize(L, n, k, breakage_mat, *args):\n",
    "    res = np.empty(n)\n",
    "    L = np.insert(L, 0, 0)\n",
    "    \n",
    "    for i in range(1, n):\n",
    "        integ = quad(selection_integrand, L[i], L[i+1], args=(k, args))[0]\n",
    "        num = integ / (L[i+1] - L[i])\n",
    "        sum = np.sum(breakage_mat[:i+1, i])\n",
    "        den = sum - 1\n",
    "        assert den != 0, 'selection_discretize: division by zero'\n",
    "        res[i] = num / den\n",
    "        \n",
    "    res[0] = 0.0\n",
    "    return res"
   ]
  },
  {
   "cell_type": "code",
   "execution_count": 1,
   "metadata": {},
   "outputs": [
    {
     "name": "stdout",
     "output_type": "stream",
     "text": [
      "No error\n"
     ]
    }
   ],
   "source": [
    "import benchmark\n",
    "\n",
    "benchmark.discretize_check()"
   ]
  },
  {
   "cell_type": "code",
   "execution_count": 2,
   "metadata": {},
   "outputs": [
    {
     "name": "stdout",
     "output_type": "stream",
     "text": [
      "discretization of breakage takes  2.152 s.\n",
      "discretization of selection takes  0.632 s.\n"
     ]
    }
   ],
   "source": [
    "benchmark.discretize('cython')"
   ]
  },
  {
   "cell_type": "markdown",
   "metadata": {},
   "source": [
    "There is no performance improvement for `cdef` integrands. This is probably due to `quad` function takes Python function as argument."
   ]
  },
  {
   "cell_type": "markdown",
   "metadata": {},
   "source": [
    "## Static types for loops"
   ]
  },
  {
   "cell_type": "code",
   "execution_count": null,
   "metadata": {},
   "outputs": [],
   "source": [
    "def den_integrand(x, k, *args):\n",
    "    return x**3 * selectionfunc(x, k, args)\n",
    "\n",
    "def num_integrand(x, y, k, *args):\n",
    "    return x**3 * selectionfunc(y, k, args) * breakagefunc(x, y, k, args)\n",
    "\n",
    "def breakage_discretize(L, Py_ssize_t n, k, *args):\n",
    "    L = np.insert(L, 0, 0)\n",
    "    res = np.zeros((n, n))\n",
    "    \n",
    "    cdef Py_ssize_t i, j\n",
    "\n",
    "    for i in range(n):\n",
    "        den, err = quad(den_integrand, L[i], L[i+1], args=(k, *args))\n",
    "        assert den != 0, 'breakage_discretize: division by zero'\n",
    "        for j in range(i):\n",
    "            num, err = dblquad(num_integrand, L[i], L[i+1],\n",
    "                               lambda x: L[j], lambda x: L[j+1],\n",
    "                               args=(k, *args))\n",
    "            Li = (L[i]+L[i+1])/2\n",
    "            Lj = (L[j]+L[j+1])/2\n",
    "            res[j, i] = (Li / Lj)**3 * num / den\n",
    "        num, err = dblquad(num_integrand, L[i], L[i+1],\n",
    "                           lambda x: L[i], lambda x: x,\n",
    "                           args=(k, *args))\n",
    "        res[i, i] = num / den\n",
    "        \n",
    "    return res \n",
    "\n",
    "def particle_number(x, k, *args): \n",
    "    res = quad(lambda a: breakagefunc(a, x, k, args), 0, x)[0]\n",
    "    return res\n",
    "\n",
    "def selection_integrand(x, k, *args):\n",
    "    return (particle_number(x, k, *args) - 1) * selectionfunc(x, k, args)\n",
    "\n",
    "def selection_discretize(L, Py_ssize_t n, k, breakage_mat, *args):\n",
    "    res = np.empty(n)\n",
    "    L = np.insert(L, 0, 0)\n",
    "    \n",
    "    cdef Py_ssize_t i\n",
    "    \n",
    "    for i in range(1, n):\n",
    "        integ = quad(selection_integrand, L[i], L[i+1], args=(k, *args))[0]\n",
    "        num = integ / (L[i+1] - L[i])\n",
    "        sum = np.sum(breakage_mat[:i+1, i])\n",
    "        den = sum - 1\n",
    "        assert den != 0, 'selection_discretize: division by zero'\n",
    "        res[i] = num / den\n",
    "        \n",
    "    res[0] = 0.0\n",
    "    return res"
   ]
  },
  {
   "cell_type": "code",
   "execution_count": 1,
   "metadata": {},
   "outputs": [
    {
     "name": "stdout",
     "output_type": "stream",
     "text": [
      "No error\n"
     ]
    }
   ],
   "source": [
    "import benchmark\n",
    "\n",
    "benchmark.discretize_check()"
   ]
  },
  {
   "cell_type": "code",
   "execution_count": 2,
   "metadata": {},
   "outputs": [
    {
     "name": "stdout",
     "output_type": "stream",
     "text": [
      "discretization of breakage takes  1.919 s.\n",
      "discretization of selection takes  0.693 s.\n"
     ]
    }
   ],
   "source": [
    "benchmark.discretize('cython')"
   ]
  },
  {
   "cell_type": "markdown",
   "metadata": {},
   "source": [
    "# Parallelize for-loop using Joblib"
   ]
  },
  {
   "cell_type": "markdown",
   "metadata": {},
   "source": [
    "Since the most of time is spent in calling `quad` and `dblquad` functions of `scipy.integrate` library, Cython has limited effect on performance improvement. For further optimizaiton, it needs to parallelize `for-loop` "
   ]
  },
  {
   "cell_type": "code",
   "execution_count": null,
   "metadata": {},
   "outputs": [],
   "source": [
    "from joblib import Parallel, delayed\n",
    "\n",
    "def breakage_discretize(L, n, k, *args):\n",
    "    L = np.insert(L, 0, 0)\n",
    "    \n",
    "    def in_for_loop(i):\n",
    "        temp = np.zeros(n)\n",
    "        den, err = quad(den_integrand, L[i], L[i+1], args=(k, *args))\n",
    "        assert den != 0, 'breakage_discretize: division by zero'\n",
    "        for j in range(i):\n",
    "            num, err = dblquad(num_integrand, L[i], L[i+1],\n",
    "                               lambda x: L[j], lambda x: L[j+1],\n",
    "                               args=(k, *args))\n",
    "            Li = (L[i]+L[i+1])/2\n",
    "            Lj = (L[j]+L[j+1])/2\n",
    "            temp[j] = (Li / Lj)**3 * num / den\n",
    "        num, err = dblquad(num_integrand, L[i], L[i+1],\n",
    "                           lambda x: L[i], lambda x: x,\n",
    "                           args=(k, *args))\n",
    "        temp[i] = num / den\n",
    "        \n",
    "        return temp\n",
    "    \n",
    "    r = Parallel(n_jobs=-1)(delayed(in_for_loop)(i) for i in range(n))\n",
    "    \n",
    "    res = np.stack(r).T \n",
    "        \n",
    "    return res\n",
    "\n",
    "def selection_discretize(L, n, k, breakage_mat, *args):\n",
    "    L = np.insert(L, 0, 0)\n",
    "    \n",
    "    def in_for_loop(i):\n",
    "        integ = quad(selection_integrand, L[i], L[i+1], args=(k, *args))[0]\n",
    "        num = integ / (L[i+1] - L[i])\n",
    "        sum = np.sum(breakage_mat[:i+1, i])\n",
    "        den = sum - 1\n",
    "        assert den != 0, 'selection_discretize: division by zero'\n",
    "        return num / den\n",
    "        \n",
    "    r = Parallel(n_jobs=-1)(delayed(in_for_loop)(i) for i in range(1, n))\n",
    "    \n",
    "    res = np.zeros(n)\n",
    "    res[1:] = r\n",
    "    return res"
   ]
  },
  {
   "cell_type": "code",
   "execution_count": 1,
   "metadata": {},
   "outputs": [
    {
     "name": "stdout",
     "output_type": "stream",
     "text": [
      "No error\n"
     ]
    }
   ],
   "source": [
    "import benchmark\n",
    "\n",
    "benchmark.parallel_check()"
   ]
  },
  {
   "cell_type": "code",
   "execution_count": 2,
   "metadata": {},
   "outputs": [
    {
     "name": "stdout",
     "output_type": "stream",
     "text": [
      "discretization of breakage takes  0.581 s.\n",
      "discretization of selection takes  0.210 s.\n"
     ]
    }
   ],
   "source": [
    "benchmark.discretize('python')"
   ]
  },
  {
   "cell_type": "markdown",
   "metadata": {},
   "source": [
    "Excution time of discretization of breakage function reduced from 23.956 s to 0.581 s and that of selection functino reduced from 11.992 s to 0.210."
   ]
  },
  {
   "cell_type": "code",
   "execution_count": null,
   "metadata": {},
   "outputs": [],
   "source": []
  }
 ],
 "metadata": {
  "kernelspec": {
   "display_name": "Python 3",
   "language": "python",
   "name": "python3"
  },
  "language_info": {
   "codemirror_mode": {
    "name": "ipython",
    "version": 3
   },
   "file_extension": ".py",
   "mimetype": "text/x-python",
   "name": "python",
   "nbconvert_exporter": "python",
   "pygments_lexer": "ipython3",
   "version": "3.7.3"
  }
 },
 "nbformat": 4,
 "nbformat_minor": 2
}
