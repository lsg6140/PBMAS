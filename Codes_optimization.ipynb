{
 "cells": [
  {
   "cell_type": "markdown",
   "metadata": {},
   "source": [
    "Codes with pure python is slow."
   ]
  },
  {
   "cell_type": "markdown",
   "metadata": {},
   "source": [
    "Time for discretization and ODE solving takes"
   ]
  },
  {
   "cell_type": "code",
   "execution_count": 5,
   "metadata": {},
   "outputs": [
    {
     "name": "stdout",
     "output_type": "stream",
     "text": [
      "discretizing...\n",
      "discretization takes 283.452857 seconds\n",
      "Solving ODE...\n",
      "solving ODE takes 42.851461 seconds\n"
     ]
    }
   ],
   "source": [
    "%run solve_ode.py"
   ]
  },
  {
   "cell_type": "markdown",
   "metadata": {},
   "source": [
    "# Optimizing breakage and selection functions with Cython"
   ]
  },
  {
   "cell_type": "markdown",
   "metadata": {},
   "source": [
    "Code for breakage function with lognormal distribution and selection function in `lognormal.py` is shown below. "
   ]
  },
  {
   "cell_type": "code",
   "execution_count": null,
   "metadata": {},
   "outputs": [],
   "source": [
    "def lnpdf(x, m, sg):\n",
    "    num = np.exp(-(np.log(x) - m)**2 / (2 * sg**2))\n",
    "    den = x * sg * np.sqrt(2 * np.pi)\n",
    "    return num / den\n",
    "\n",
    "def lognorm_b(x, y, m, sg):\n",
    "    assert sg > 0, \"sigma must be larger than 0\"\n",
    "   \n",
    "    num = lnpdf(x, m, sg)\n",
    "    den = erfc(-(np.log(y) - m) / (np.sqrt(2) * sg))/2\n",
    "\n",
    "    # In case 'y' is too small compared to 'mu',\n",
    "    # 'den' can be numerically zero \n",
    "    # if it is smaller than the machine precision epsilon \n",
    "    # which is not correct theoretically\n",
    "    if den == 0:\n",
    "        den = np.finfo(float).eps\n",
    "    # convert volume to number\n",
    "    return (y / x)**3 * num / den\n",
    "\n",
    "def breakagefunc(x, y, k, *args):\n",
    "    mu = args[0]\n",
    "    sigma = args[1]\n",
    "    res = k[1] * lognorm_b(x, y, mu[0], sigma[0])\\\n",
    "        + k[2] * lognorm_b(x, y, mu[1], sigma[1])\\\n",
    "        + (1 - k[1] - k[2]) * lognorm_b(x, y, mu[2], sigma[2])\n",
    "    return res\n",
    "\n",
    "def selectionfunc(y, k, *args):\n",
    "    return k[0] * y**3"
   ]
  },
  {
   "cell_type": "markdown",
   "metadata": {},
   "source": [
    "Benchmark result is"
   ]
  },
  {
   "cell_type": "code",
   "execution_count": 1,
   "metadata": {},
   "outputs": [
    {
     "name": "stdout",
     "output_type": "stream",
     "text": [
      "breakage function takes 26.58 μs.\n"
     ]
    }
   ],
   "source": [
    "import benchmark\n",
    "\n",
    "benchmark.breakage('python')"
   ]
  },
  {
   "cell_type": "code",
   "execution_count": 2,
   "metadata": {},
   "outputs": [
    {
     "name": "stdout",
     "output_type": "stream",
     "text": [
      "breakage function takes  0.60 μs.\n"
     ]
    }
   ],
   "source": [
    "benchmark.selection('python')"
   ]
  },
  {
   "cell_type": "markdown",
   "metadata": {},
   "source": [
    "## Simply cythonize without modification"
   ]
  },
  {
   "cell_type": "markdown",
   "metadata": {},
   "source": [
    "Compling was done with `setup.py`\n",
    "\n",
    "`$ python setup.py bulid_ext -i`"
   ]
  },
  {
   "cell_type": "code",
   "execution_count": 1,
   "metadata": {},
   "outputs": [
    {
     "name": "stdout",
     "output_type": "stream",
     "text": [
      "breakage function takes 20.80 μs.\n"
     ]
    }
   ],
   "source": [
    "import benchmark\n",
    "\n",
    "benchmark.breakage('cython')"
   ]
  },
  {
   "cell_type": "code",
   "execution_count": 2,
   "metadata": {},
   "outputs": [
    {
     "name": "stdout",
     "output_type": "stream",
     "text": [
      "breakage function takes  0.37 μs.\n"
     ]
    }
   ],
   "source": [
    "benchmark.selection('cython')"
   ]
  },
  {
   "cell_type": "markdown",
   "metadata": {},
   "source": [
    "## Use C library for math functions"
   ]
  },
  {
   "cell_type": "markdown",
   "metadata": {},
   "source": [
    "Cythonized code in `lognormal_cy.pyx` is shown below "
   ]
  },
  {
   "cell_type": "code",
   "execution_count": null,
   "metadata": {},
   "outputs": [],
   "source": [
    "import numpy as np\n",
    "from libc.math cimport exp, log, sqrt, erfc\n",
    "\n",
    "def lnpdf(x, m, sg):\n",
    "    num = exp(-(log(x) - m)**2 / (2 * sg**2))\n",
    "    den = x * sg * sqrt(2 * np.pi)\n",
    "    return num / den\n",
    "\n",
    "def lognorm_b(x, y, m, sg):\n",
    "    assert sg > 0, \"sigma must be larger than 0\"\n",
    "   \n",
    "    num = lnpdf(x, m, sg)\n",
    "    den = erfc(-(log(y) - m) / (sqrt(2) * sg))/2\n",
    "\n",
    "    if den == 0:\n",
    "        den = np.finfo(float).eps\n",
    "\n",
    "    return (y / x)**3 * num / den"
   ]
  },
  {
   "cell_type": "code",
   "execution_count": 1,
   "metadata": {},
   "outputs": [
    {
     "name": "stdout",
     "output_type": "stream",
     "text": [
      "breakage function takes  5.48 μs.\n"
     ]
    }
   ],
   "source": [
    "import benchmark\n",
    "\n",
    "benchmark.breakage('cython')"
   ]
  },
  {
   "cell_type": "code",
   "execution_count": 2,
   "metadata": {},
   "outputs": [
    {
     "name": "stdout",
     "output_type": "stream",
     "text": [
      "breakage function takes  0.42 μs.\n"
     ]
    }
   ],
   "source": [
    "benchmark.selection('cython')"
   ]
  },
  {
   "cell_type": "markdown",
   "metadata": {},
   "source": [
    "## Static types"
   ]
  },
  {
   "cell_type": "code",
   "execution_count": null,
   "metadata": {},
   "outputs": [],
   "source": [
    "cdef double lnpdf(double x, double m, double sg):\n",
    "    cdef double pi = 3.141592653589793115997963468544185161590576171875\n",
    "    cdef double num = exp(-(log(x) - m) ** 2 / (2 * sg**2))\n",
    "    cdef double den = x * sg * sqrt(2 * pi)\n",
    "    return num / den\n",
    "\n",
    "cdef double lognorm_b(double x, double y, double m, double sg):\n",
    "    assert sg > 0, \"sigma must be larger than 0\"\n",
    "    cdef double num = lnpdf(x, m, sg)\n",
    "    cdef double den = erfc(-(log(y) - m) / (sqrt(2) * sg)) / 2\n",
    "    if den == 0:\n",
    "        den = np.finfo(float).eps\n",
    "    return (y / x)**3 * num / den\n",
    "\n",
    "cpdef double breakagefunc(double x, double y, double[:] k, args):\n",
    "    cdef double[:] mu = args[0]\n",
    "    cdef double[:] sigma = args[1]\n",
    "    cdef double res = k[1] * lognorm_b(x, y, mu[0], sigma[0])\\\n",
    "                    + k[2] * lognorm_b(x, y, mu[1], sigma[1])\\\n",
    "                    + (1 - k[1] - k[2]) * lognorm_b(x, y, mu[2], sigma[2])\n",
    "    return res\n",
    "\n",
    "cpdef double selectionfunc(double y, double[:] k, args):\n",
    "    return k[0] * y**3"
   ]
  },
  {
   "cell_type": "code",
   "execution_count": 1,
   "metadata": {},
   "outputs": [
    {
     "name": "stdout",
     "output_type": "stream",
     "text": [
      "breakage function takes  1.65 μs.\n"
     ]
    }
   ],
   "source": [
    "import benchmark\n",
    "\n",
    "benchmark.breakage('cython')"
   ]
  },
  {
   "cell_type": "code",
   "execution_count": 2,
   "metadata": {},
   "outputs": [
    {
     "name": "stdout",
     "output_type": "stream",
     "text": [
      "breakage function takes  0.52 μs.\n"
     ]
    }
   ],
   "source": [
    "benchmark.selection('cython')"
   ]
  },
  {
   "cell_type": "markdown",
   "metadata": {},
   "source": [
    "Cythonization makes the breakage function more than 10 times faster but there is no significant improvement for selection function. "
   ]
  },
  {
   "cell_type": "markdown",
   "metadata": {},
   "source": [
    "# Optimizing discretization with Cython"
   ]
  },
  {
   "cell_type": "markdown",
   "metadata": {},
   "source": [
    "Code for discretization in `discretize.py` is shown below"
   ]
  },
  {
   "cell_type": "code",
   "execution_count": null,
   "metadata": {},
   "outputs": [],
   "source": [
    "def den_integrand(x, k, *args):\n",
    "    return x**3 * selectionfunc(x, k, *args)\n",
    "\n",
    "def num_integrand(x, y, k, *args):\n",
    "    return x**3 * selectionfunc(y, k, *args) * breakagefunc(x, y, k, *args)\n",
    "\n",
    "def breakage_discretize(L, n, k, *args):\n",
    "    L = np.insert(L, 0, 0)\n",
    "    res = np.zeros((n, n))\n",
    "\n",
    "    for i in range(n):\n",
    "        den, err = quad(den_integrand, L[i], L[i+1], args=(k, *args))\n",
    "        assert den != 0, 'breakage_discretize: division by zero'\n",
    "        for j in range(i):\n",
    "            num, err = dblquad(num_integrand, L[i], L[i+1],\n",
    "                               lambda x: L[j], lambda x: L[j+1],\n",
    "                               args=(k, *args))\n",
    "            Li = (L[i]+L[i+1])/2\n",
    "            Lj = (L[j]+L[j+1])/2\n",
    "            res[j, i] = (Li / Lj)**3 * num / den\n",
    "        num, err = dblquad(num_integrand, L[i], L[i+1],\n",
    "                           lambda x: L[i], lambda x: x,\n",
    "                           args=(k, *args))\n",
    "        res[i, i] = num / den\n",
    "        \n",
    "    return res \n",
    "\n",
    "def particle_number(x, k, *args): \n",
    "    res = quad(lambda a: breakagefunc(a, x, k, *args), 0, x)[0]\n",
    "    return res\n",
    "\n",
    "def selection_integrand(x, k, *args):\n",
    "    return (particle_number(x, k, *args) - 1) * selectionfunc(x, k, *args)\n",
    "\n",
    "def selection_discretize(L, n, k, breakage_mat, *args):\n",
    "    res = np.empty(n)\n",
    "    L = np.insert(L, 0, 0)\n",
    "    \n",
    "    for i in range(1, n):\n",
    "        integ = quad(selection_integrand, L[i], L[i+1], args=(k, *args))[0]\n",
    "        num = integ / (L[i+1] - L[i])\n",
    "        sum = np.sum(breakage_mat[:i+1, i])\n",
    "        den = sum - 1\n",
    "        assert den != 0, 'selection_discretize: division by zero'\n",
    "        res[i] = num / den\n",
    "        \n",
    "    res[0] = 0.0\n",
    "    return res"
   ]
  },
  {
   "cell_type": "markdown",
   "metadata": {},
   "source": [
    "Benchmark result is"
   ]
  },
  {
   "cell_type": "code",
   "execution_count": 1,
   "metadata": {},
   "outputs": [
    {
     "name": "stdout",
     "output_type": "stream",
     "text": [
      "No error\n"
     ]
    }
   ],
   "source": [
    "import benchmark\n",
    "\n",
    "benchmark.discretize_check()"
   ]
  },
  {
   "cell_type": "code",
   "execution_count": 2,
   "metadata": {},
   "outputs": [
    {
     "name": "stdout",
     "output_type": "stream",
     "text": [
      "discretization of breakage takes 23.956 s.\n",
      "discretization of selection takes 11.992 s.\n"
     ]
    }
   ],
   "source": [
    "benchmark.discretize('python')"
   ]
  },
  {
   "cell_type": "markdown",
   "metadata": {},
   "source": [
    "## Simply inserting cythonized lognormal function"
   ]
  },
  {
   "cell_type": "markdown",
   "metadata": {},
   "source": [
    "The `cdef` function cannot have starred argument `*args` for variable number of arguments as Python, `*args` should be converted to `args`. With this modification, simply inserting cythonized functions into `discretize.py` results in"
   ]
  },
  {
   "cell_type": "code",
   "execution_count": null,
   "metadata": {},
   "outputs": [],
   "source": [
    "def den_integrand(x, k, *args):\n",
    "    return x**3 * selectionfunc(x, k, args)\n",
    "\n",
    "def num_integrand(x, y, k, *args):\n",
    "    return x**3 * selectionfunc(y, k, args) * breakagefunc(x, y, k, args)\n",
    "\n",
    "def breakage_discretize(L, n, k, *args):\n",
    "    L = np.insert(L, 0, 0)\n",
    "    res = np.zeros((n, n))\n",
    "\n",
    "    for i in range(n):\n",
    "        den, err = quad(den_integrand, L[i], L[i+1], args=(k, *args))\n",
    "        assert den != 0, 'breakage_discretize: division by zero'\n",
    "        for j in range(i):\n",
    "            num, err = dblquad(num_integrand, L[i], L[i+1],\n",
    "                               lambda x: L[j], lambda x: L[j+1],\n",
    "                               args=(k, *args))\n",
    "            Li = (L[i]+L[i+1])/2\n",
    "            Lj = (L[j]+L[j+1])/2\n",
    "            res[j, i] = (Li / Lj)**3 * num / den\n",
    "        num, err = dblquad(num_integrand, L[i], L[i+1],\n",
    "                           lambda x: L[i], lambda x: x,\n",
    "                           args=(k, *args))\n",
    "        res[i, i] = num / den\n",
    "        \n",
    "    return res \n",
    "\n",
    "def particle_number(x, k, *args): \n",
    "    res = quad(lambda a: breakagefunc(a, x, k, args), 0, x)[0]\n",
    "    return res\n",
    "\n",
    "def selection_integrand(x, k, *args):\n",
    "    return (particle_number(x, k, *args) - 1) * selectionfunc(x, k, args)\n",
    "\n",
    "def selection_discretize(L, n, k, breakage_mat, *args):\n",
    "    res = np.empty(n)\n",
    "    L = np.insert(L, 0, 0)\n",
    "    \n",
    "    for i in range(1, n):\n",
    "        integ = quad(selection_integrand, L[i], L[i+1], args=(k, *args))[0]\n",
    "        num = integ / (L[i+1] - L[i])\n",
    "        sum = np.sum(breakage_mat[:i+1, i])\n",
    "        den = sum - 1\n",
    "        assert den != 0, 'selection_discretize: division by zero'\n",
    "        res[i] = num / den\n",
    "        \n",
    "    res[0] = 0.0\n",
    "    return res"
   ]
  },
  {
   "cell_type": "code",
   "execution_count": 1,
   "metadata": {},
   "outputs": [
    {
     "name": "stdout",
     "output_type": "stream",
     "text": [
      "No error\n"
     ]
    }
   ],
   "source": [
    "import benchmark\n",
    "\n",
    "benchmark.discretize_check()"
   ]
  },
  {
   "cell_type": "code",
   "execution_count": 2,
   "metadata": {},
   "outputs": [
    {
     "name": "stdout",
     "output_type": "stream",
     "text": [
      "discretization of breakage takes  2.018 s.\n",
      "discretization of selection takes  0.684 s.\n"
     ]
    }
   ],
   "source": [
    "benchmark.discretize('cython')"
   ]
  },
  {
   "cell_type": "markdown",
   "metadata": {},
   "source": [
    "## Add static types"
   ]
  },
  {
   "cell_type": "markdown",
   "metadata": {},
   "source": [
    "Closures inside `cpdef` functions is not supported so that a function using `lambda` function cannot be converted to a `cpdef` function."
   ]
  },
  {
   "cell_type": "code",
   "execution_count": null,
   "metadata": {},
   "outputs": [],
   "source": [
    "cpdef double den_integrand(double x, double[:] k, args):\n",
    "    return x**3 * selectionfunc(x, k, args)\n",
    "\n",
    "cpdef double num_integrand(double x, double y, double[:] k, args):\n",
    "    return x**3 * selectionfunc(y, k, args) * breakagefunc(x, y, k, args)\n",
    "\n",
    "def breakage_discretize(L, n, k, *args):\n",
    "    L = np.insert(L, 0, 0)\n",
    "    res = np.zeros((n, n))\n",
    "\n",
    "    for i in range(n):\n",
    "        den, err = quad(den_integrand, L[i], L[i+1], args=(k, args))\n",
    "        assert den != 0, 'breakage_discretize: division by zero'\n",
    "        for j in range(i):\n",
    "            num, err = dblquad(num_integrand, L[i], L[i+1],\n",
    "                               lambda x: L[j], lambda x: L[j+1],\n",
    "                               args=(k, args))\n",
    "            Li = (L[i]+L[i+1])/2\n",
    "            Lj = (L[j]+L[j+1])/2\n",
    "            res[j, i] = (Li / Lj)**3 * num / den\n",
    "        num, err = dblquad(num_integrand, L[i], L[i+1],\n",
    "                           lambda x: L[i], lambda x: x,\n",
    "                           args=(k, args))\n",
    "        res[i, i] = num / den\n",
    "        \n",
    "    return res \n",
    "\n",
    "def particle_number(double x, double[:] k, args): \n",
    "    res = quad(lambda a: breakagefunc(a, x, k, args), 0, x)[0]\n",
    "    return res\n",
    "\n",
    "cdef double selection_integrand(double x, double[:] k, args):\n",
    "    return (particle_number(x, k, args) - 1) * selectionfunc(x, k, args)\n",
    "\n",
    "def selection_discretize(L, n, k, breakage_mat, *args):\n",
    "    res = np.empty(n)\n",
    "    L = np.insert(L, 0, 0)\n",
    "    \n",
    "    for i in range(1, n):\n",
    "        integ = quad(selection_integrand, L[i], L[i+1], args=(k, args))[0]\n",
    "        num = integ / (L[i+1] - L[i])\n",
    "        sum = np.sum(breakage_mat[:i+1, i])\n",
    "        den = sum - 1\n",
    "        assert den != 0, 'selection_discretize: division by zero'\n",
    "        res[i] = num / den\n",
    "        \n",
    "    res[0] = 0.0\n",
    "    return res"
   ]
  },
  {
   "cell_type": "code",
   "execution_count": 1,
   "metadata": {},
   "outputs": [
    {
     "name": "stdout",
     "output_type": "stream",
     "text": [
      "No error\n"
     ]
    }
   ],
   "source": [
    "import benchmark\n",
    "\n",
    "benchmark.discretize_check()"
   ]
  },
  {
   "cell_type": "code",
   "execution_count": 2,
   "metadata": {},
   "outputs": [
    {
     "name": "stdout",
     "output_type": "stream",
     "text": [
      "discretization of breakage takes  2.152 s.\n",
      "discretization of selection takes  0.632 s.\n"
     ]
    }
   ],
   "source": [
    "benchmark.discretize('cython')"
   ]
  },
  {
   "cell_type": "markdown",
   "metadata": {},
   "source": [
    "There is no performance improvement for `cdef` integrands. This is probably due to `quad` function takes Python function as argument."
   ]
  },
  {
   "cell_type": "markdown",
   "metadata": {},
   "source": [
    "## Static types for loops"
   ]
  },
  {
   "cell_type": "code",
   "execution_count": null,
   "metadata": {},
   "outputs": [],
   "source": [
    "def den_integrand(x, k, *args):\n",
    "    return x**3 * selectionfunc(x, k, args)\n",
    "\n",
    "def num_integrand(x, y, k, *args):\n",
    "    return x**3 * selectionfunc(y, k, args) * breakagefunc(x, y, k, args)\n",
    "\n",
    "def breakage_discretize(L, Py_ssize_t n, k, *args):\n",
    "    L = np.insert(L, 0, 0)\n",
    "    res = np.zeros((n, n))\n",
    "    \n",
    "    cdef Py_ssize_t i, j\n",
    "\n",
    "    for i in range(n):\n",
    "        den, err = quad(den_integrand, L[i], L[i+1], args=(k, *args))\n",
    "        assert den != 0, 'breakage_discretize: division by zero'\n",
    "        for j in range(i):\n",
    "            num, err = dblquad(num_integrand, L[i], L[i+1],\n",
    "                               lambda x: L[j], lambda x: L[j+1],\n",
    "                               args=(k, *args))\n",
    "            Li = (L[i]+L[i+1])/2\n",
    "            Lj = (L[j]+L[j+1])/2\n",
    "            res[j, i] = (Li / Lj)**3 * num / den\n",
    "        num, err = dblquad(num_integrand, L[i], L[i+1],\n",
    "                           lambda x: L[i], lambda x: x,\n",
    "                           args=(k, *args))\n",
    "        res[i, i] = num / den\n",
    "        \n",
    "    return res \n",
    "\n",
    "def particle_number(x, k, *args): \n",
    "    res = quad(lambda a: breakagefunc(a, x, k, args), 0, x)[0]\n",
    "    return res\n",
    "\n",
    "def selection_integrand(x, k, *args):\n",
    "    return (particle_number(x, k, *args) - 1) * selectionfunc(x, k, args)\n",
    "\n",
    "def selection_discretize(L, Py_ssize_t n, k, breakage_mat, *args):\n",
    "    res = np.empty(n)\n",
    "    L = np.insert(L, 0, 0)\n",
    "    \n",
    "    cdef Py_ssize_t i\n",
    "    \n",
    "    for i in range(1, n):\n",
    "        integ = quad(selection_integrand, L[i], L[i+1], args=(k, *args))[0]\n",
    "        num = integ / (L[i+1] - L[i])\n",
    "        sum = np.sum(breakage_mat[:i+1, i])\n",
    "        den = sum - 1\n",
    "        assert den != 0, 'selection_discretize: division by zero'\n",
    "        res[i] = num / den\n",
    "        \n",
    "    res[0] = 0.0\n",
    "    return res"
   ]
  },
  {
   "cell_type": "code",
   "execution_count": 1,
   "metadata": {},
   "outputs": [
    {
     "name": "stdout",
     "output_type": "stream",
     "text": [
      "No error\n"
     ]
    }
   ],
   "source": [
    "import benchmark\n",
    "\n",
    "benchmark.discretize_check()"
   ]
  },
  {
   "cell_type": "code",
   "execution_count": 2,
   "metadata": {},
   "outputs": [
    {
     "name": "stdout",
     "output_type": "stream",
     "text": [
      "discretization of breakage takes  1.919 s.\n",
      "discretization of selection takes  0.693 s.\n"
     ]
    }
   ],
   "source": [
    "benchmark.discretize('cython')"
   ]
  },
  {
   "cell_type": "markdown",
   "metadata": {},
   "source": [
    "# Parallelize for-loop using Joblib"
   ]
  },
  {
   "cell_type": "markdown",
   "metadata": {},
   "source": [
    "Since the most of time is spent in calling `quad` and `dblquad` functions of `scipy.integrate` library, Cython has limited effect on performance improvement. For further optimizaiton, it needs to parallelize `for-loop` "
   ]
  },
  {
   "cell_type": "code",
   "execution_count": null,
   "metadata": {},
   "outputs": [],
   "source": [
    "from joblib import Parallel, delayed\n",
    "\n",
    "def breakage_discretize(L, n, k, *args):\n",
    "    L = np.insert(L, 0, 0)\n",
    "    \n",
    "    def in_for_loop(i):\n",
    "        temp = np.zeros(n)\n",
    "        den, err = quad(den_integrand, L[i], L[i+1], args=(k, *args))\n",
    "        assert den != 0, 'breakage_discretize: division by zero'\n",
    "        for j in range(i):\n",
    "            num, err = dblquad(num_integrand, L[i], L[i+1],\n",
    "                               lambda x: L[j], lambda x: L[j+1],\n",
    "                               args=(k, *args))\n",
    "            Li = (L[i]+L[i+1])/2\n",
    "            Lj = (L[j]+L[j+1])/2\n",
    "            temp[j] = (Li / Lj)**3 * num / den\n",
    "        num, err = dblquad(num_integrand, L[i], L[i+1],\n",
    "                           lambda x: L[i], lambda x: x,\n",
    "                           args=(k, *args))\n",
    "        temp[i] = num / den\n",
    "        \n",
    "        return temp\n",
    "    \n",
    "    r = Parallel(n_jobs=-1)(delayed(in_for_loop)(i) for i in range(n))\n",
    "    \n",
    "    res = np.stack(r).T \n",
    "        \n",
    "    return res\n",
    "\n",
    "def selection_discretize(L, n, k, breakage_mat, *args):\n",
    "    L = np.insert(L, 0, 0)\n",
    "    \n",
    "    def in_for_loop(i):\n",
    "        integ = quad(selection_integrand, L[i], L[i+1], args=(k, *args))[0]\n",
    "        num = integ / (L[i+1] - L[i])\n",
    "        sum = np.sum(breakage_mat[:i+1, i])\n",
    "        den = sum - 1\n",
    "        assert den != 0, 'selection_discretize: division by zero'\n",
    "        return num / den\n",
    "        \n",
    "    r = Parallel(n_jobs=-1)(delayed(in_for_loop)(i) for i in range(1, n))\n",
    "    \n",
    "    res = np.zeros(n)\n",
    "    res[1:] = r\n",
    "    return res"
   ]
  },
  {
   "cell_type": "code",
   "execution_count": 1,
   "metadata": {},
   "outputs": [
    {
     "name": "stdout",
     "output_type": "stream",
     "text": [
      "No error\n"
     ]
    }
   ],
   "source": [
    "import benchmark\n",
    "\n",
    "benchmark.parallel_check()"
   ]
  },
  {
   "cell_type": "code",
   "execution_count": 10,
   "metadata": {},
   "outputs": [
    {
     "name": "stdout",
     "output_type": "stream",
     "text": [
      "discretization of breakage takes  0.605 s.\n",
      "discretization of selection takes  0.209 s.\n"
     ]
    }
   ],
   "source": [
    "benchmark.discretize('python')"
   ]
  },
  {
   "cell_type": "markdown",
   "metadata": {},
   "source": [
    "Excution time of discretization of breakage function reduced from 23.956 s to 0.605 s and that of selection function reduced from 11.992 s to 0.209."
   ]
  },
  {
   "cell_type": "markdown",
   "metadata": {},
   "source": [
    "# Test"
   ]
  },
  {
   "cell_type": "code",
   "execution_count": 1,
   "metadata": {},
   "outputs": [
    {
     "name": "stdout",
     "output_type": "stream",
     "text": [
      "discretizing...\n",
      "discretization takes 5.862507 seconds\n",
      "Solving ODE...\n",
      "solving ODE takes 44.120581 seconds\n"
     ]
    }
   ],
   "source": [
    "%run solve_ode.py"
   ]
  },
  {
   "cell_type": "markdown",
   "metadata": {},
   "source": [
    "Time to evaluate `discretize` function reduced from 283.45 to 5.86 s."
   ]
  },
  {
   "cell_type": "markdown",
   "metadata": {},
   "source": [
    "Since the `discretize` will be reused for every call from `ode_solve`, `discretize` should be cached for unnecessary evaluation for the same arguments using `joblib Memory`."
   ]
  },
  {
   "cell_type": "code",
   "execution_count": null,
   "metadata": {},
   "outputs": [],
   "source": [
    "from joblib import Memory\n",
    "\n",
    "cachedir = './cachedir'\n",
    "memory = Memory(cachedir, verbose=0)\n",
    "\n",
    "@memory.cache\n",
    "def discretize(L, n, p, k, delta, *args):"
   ]
  },
  {
   "cell_type": "markdown",
   "metadata": {},
   "source": [
    "# Optimizing ODE construction functions"
   ]
  },
  {
   "cell_type": "markdown",
   "metadata": {},
   "source": [
    "ODE functions for breakage PBM in `ode.py` is shown below,"
   ]
  },
  {
   "cell_type": "code",
   "execution_count": null,
   "metadata": {},
   "outputs": [],
   "source": [
    "def breakage(number, brk_mat, slc_vec):\n",
    "    n = len(number)\n",
    "    R1 = np.zeros(n)\n",
    "    \n",
    "    # Mechanism 1 (i=1~n, j=i~n) !!! with index 1~n\n",
    "    for i in range(n):\n",
    "        R1[i] = np.sum(brk_mat[i, i:] * slc_vec[i:] * number[i:])\n",
    "        \n",
    "    # Mechanism 2 (i=2~n)\n",
    "    R2 = slc_vec[1:] * number[1:]\n",
    "    R2 = np.insert(R2, 0, 0.0)\n",
    "        \n",
    "    dNdt = R1 - R2\n",
    "\n",
    "    return dNdt\n",
    "\n",
    "\n",
    "\n",
    "def breakage_moment(Y, brk_mat, slc_vec, L):\n",
    "    n = len(Y) - 4\n",
    "    number = Y[0:n]\n",
    "\n",
    "    dNdt = breakage(number, brk_mat, slc_vec)\n",
    "\n",
    "    m0 = np.sum(dNdt)\n",
    "    m1 = np.sum(L @ dNdt)\n",
    "    m2 = np.sum(np.power(L, 2) @ dNdt)\n",
    "    m3 = np.sum(np.power(L, 3) @ dNdt)\n",
    "    \n",
    "    dydt = np.append(dNdt,[m0,m1,m2,m3])\n",
    "    \n",
    "    return dydt"
   ]
  },
  {
   "cell_type": "code",
   "execution_count": 1,
   "metadata": {},
   "outputs": [
    {
     "name": "stdout",
     "output_type": "stream",
     "text": [
      "No error\n"
     ]
    }
   ],
   "source": [
    "import benchmark\n",
    "\n",
    "benchmark.ode_check()"
   ]
  },
  {
   "cell_type": "code",
   "execution_count": 2,
   "metadata": {},
   "outputs": [
    {
     "name": "stdout",
     "output_type": "stream",
     "text": [
      "constructing ode takes 319.87 μs.\n"
     ]
    }
   ],
   "source": [
    "benchmark.ode('python')"
   ]
  },
  {
   "cell_type": "markdown",
   "metadata": {},
   "source": [
    "## Cythonize"
   ]
  },
  {
   "cell_type": "markdown",
   "metadata": {},
   "source": [
    "Since the construction of ODE is iterating over arrays, cythonize with static types should results in significant performance improvement."
   ]
  },
  {
   "cell_type": "code",
   "execution_count": null,
   "metadata": {},
   "outputs": [],
   "source": [
    "def breakage(number, brk_mat, slc_vec):\n",
    "    cdef Py_ssize_t n = len(number)\n",
    "    R1 = np.zeros(n)\n",
    "    R2 = np.zeros(n)\n",
    "    \n",
    "    # Memoryview\n",
    "    cdef double[:] R1v = R1\n",
    "    cdef double[:] R2v = R2\n",
    "    cdef double[:] nv = number\n",
    "    cdef double[:, :] brkv = brk_mat\n",
    "    cdef double[:] slcv = slc_vec\n",
    "    \n",
    "    cdef Py_ssize_t i, j\n",
    "    cdef double sum\n",
    "    \n",
    "    # Mechanism 1 (i=1~n, j=i~n) !!! with index 1~n\n",
    "    for i in range(n):\n",
    "        sum = 0\n",
    "        for j in range(i, n):\n",
    "            sum += brkv[i, j] * slcv[j] * nv[j]\n",
    "        R1v[i] = sum\n",
    "        \n",
    "    # Mechanism 2 (i=2~n)\n",
    "    for i in range(1, n):\n",
    "        R2v[i] = slcv[i] * nv[i]\n",
    "\n",
    "    return R1 - R2"
   ]
  },
  {
   "cell_type": "code",
   "execution_count": 3,
   "metadata": {},
   "outputs": [
    {
     "name": "stdout",
     "output_type": "stream",
     "text": [
      "constructing ode takes  6.07 μs.\n"
     ]
    }
   ],
   "source": [
    "benchmark.ode('cython')"
   ]
  },
  {
   "cell_type": "markdown",
   "metadata": {},
   "source": [
    "# Test"
   ]
  },
  {
   "cell_type": "code",
   "execution_count": 4,
   "metadata": {},
   "outputs": [
    {
     "name": "stdout",
     "output_type": "stream",
     "text": [
      "discretization takes 0.004441 seconds\n",
      "Solving ODE...\n",
      "solving ODE takes 2.283300 seconds\n"
     ]
    }
   ],
   "source": [
    "%run solve_ode.py"
   ]
  },
  {
   "cell_type": "markdown",
   "metadata": {},
   "source": [
    "Discretization took only 0.004 seconds since it was cached.\n",
    "\n",
    "Time for solving ODE reduced from 44.1 to 2.28 seconds."
   ]
  },
  {
   "cell_type": "markdown",
   "metadata": {},
   "source": [
    "# Phi construction"
   ]
  },
  {
   "cell_type": "markdown",
   "metadata": {},
   "source": [
    "Code for $\\phi$ construction in `phi.py` is shown below"
   ]
  },
  {
   "cell_type": "code",
   "execution_count": null,
   "metadata": {},
   "outputs": [],
   "source": [
    "import numpy as np\n",
    "\n",
    "def phi_breakage(breakage, z, dbs, n, p, delta):\n",
    "    # dbs: discretized breakage and selection functions\n",
    "    z = z.astype(np.float)\n",
    "    y = z[0:n]\n",
    "    J = z[n:].reshape((p, n)).transpose()\n",
    "    phiz = np.empty(n * (p + 1))\n",
    "    dfdy = np.empty((n, n))\n",
    "    dfdk = np.empty((p, n))\n",
    "    \n",
    "    for i in range(n):\n",
    "        yr = y.copy()\n",
    "        \n",
    "        yl = y.copy()\n",
    "        yr[i] += delta\n",
    "        yl[i] -= delta\n",
    "        dfdy[i] = (breakage(yr, dbs[0], dbs[1]) - \\\n",
    "                   breakage(yl, dbs[0], dbs[1])) / (2 * delta)\n",
    "    dfdy = dfdy.transpose()\n",
    "    \n",
    "    for i in range(p):\n",
    "        dfdk[i] = (breakage(y, dbs[2][i], dbs[3][i]) - \\\n",
    "                   breakage(y, dbs[4][i], dbs[5][i])) / (2 * delta)\n",
    "    dfdk = dfdk.transpose()\n",
    "    \n",
    "    dJdt = dfdy @ J + dfdk\n",
    "    phiz[0:n] = breakage(y, dbs[0], dbs[1])\n",
    "    phiz[n:] = dJdt.transpose().flatten()\n",
    "    return phiz"
   ]
  },
  {
   "cell_type": "code",
   "execution_count": 1,
   "metadata": {},
   "outputs": [
    {
     "name": "stdout",
     "output_type": "stream",
     "text": [
      "No error\n"
     ]
    }
   ],
   "source": [
    "import benchmark\n",
    "\n",
    "benchmark.phi_check()"
   ]
  },
  {
   "cell_type": "code",
   "execution_count": 2,
   "metadata": {},
   "outputs": [
    {
     "name": "stdout",
     "output_type": "stream",
     "text": [
      "constructing phi takes  1.23 ms.\n"
     ]
    }
   ],
   "source": [
    "benchmark.phi('python')"
   ]
  },
  {
   "cell_type": "markdown",
   "metadata": {},
   "source": [
    "## Cythonize"
   ]
  },
  {
   "cell_type": "code",
   "execution_count": null,
   "metadata": {},
   "outputs": [],
   "source": [
    "def phi_breakage(breakage, z, dbs, Py_ssize_t n, Py_ssize_t p, double delta):\n",
    "    # dbs: discretized breakage and selection functions\n",
    "    z = z.astype(np.float)\n",
    "    y = z[0:n]\n",
    "    J = z[n:].reshape((p, n)).transpose()\n",
    "    phiz = np.empty(n * (p + 1))\n",
    "    dfdy = np.empty((n, n))\n",
    "    dfdk = np.empty((p, n))\n",
    "    \n",
    "    Y = np.tile(y, [n, 1])\n",
    "    Yr = Y + np.eye(n) * delta\n",
    "    Yl = Y - np.eye(n) * delta\n",
    "    \n",
    "    # Memoryview\n",
    "    cdef double[:, :] brk_mat = dbs[0]\n",
    "    cdef double[:] slc_vec = dbs[1]\n",
    "    cdef double[:, :, :] brk_mat_r = dbs[2]\n",
    "    cdef double[:, :] slc_vec_r = dbs[3]\n",
    "    cdef double[:, :, :] brk_mat_l = dbs[4]\n",
    "    cdef double[:, :] slc_vec_l = dbs[5]\n",
    "    cdef double[:] yv = y\n",
    "    cdef double[:, :] Yrv = Yr\n",
    "    cdef double[:, :] Ylv = Yl\n",
    "    cdef double[:, :] dfdyv = dfdy\n",
    "    cdef double[:, :] dfdkv = dfdk\n",
    "    \n",
    "    cdef double[:] temp\n",
    "    \n",
    "    cdef Py_ssize_t i\n",
    "    \n",
    "    for i in range(n):\n",
    "        temp = (breakage(Yr[i], brk_mat, slc_vec) - \\\n",
    "                breakage(Yl[i], brk_mat, slc_vec)) / (2 * delta)\n",
    "        dfdyv[i] = temp\n",
    "    dfdy = dfdy.transpose()\n",
    "    \n",
    "    for i in range(p):\n",
    "        temp = (breakage(yv, brk_mat_r[i], slc_vec_r[i]) - \\\n",
    "                breakage(yv, brk_mat_l[i], slc_vec_l[i])) / (2 * delta)\n",
    "        dfdkv[i] = temp\n",
    "    dfdk = dfdk.transpose()\n",
    "    \n",
    "    dJdt = dfdy @ J + dfdk\n",
    "    phiz[0:n] = breakage(y, dbs[0], dbs[1])\n",
    "    phiz[n:] = dJdt.transpose().flatten()\n",
    "    return phiz"
   ]
  },
  {
   "cell_type": "code",
   "execution_count": 3,
   "metadata": {},
   "outputs": [
    {
     "name": "stdout",
     "output_type": "stream",
     "text": [
      "constructing phi takes  1.15 ms.\n"
     ]
    }
   ],
   "source": [
    "benchmark.phi('cython')"
   ]
  },
  {
   "cell_type": "markdown",
   "metadata": {},
   "source": [
    "Cythonize does not make big difference. This could be due to the ode constructor `breakage` function is not `cdef` function."
   ]
  },
  {
   "cell_type": "code",
   "execution_count": null,
   "metadata": {},
   "outputs": [],
   "source": [
    "cdef double[:] breakage(double[:] number, double[:, :] brk_mat, double[:] slc_vec):\n",
    "    cdef Py_ssize_t n = len(number)\n",
    "    cdef double[:] dndt = np.zeros(n).astype(np.double)\n",
    "    \n",
    "    cdef Py_ssize_t i, j\n",
    "    cdef double sum\n",
    "    \n",
    "    # Mechanism 1 (i=1~n, j=i~n) !!! with index 1~n\n",
    "    for i in range(n):\n",
    "        sum = 0\n",
    "        for j in range(i, n):\n",
    "            sum += brk_mat[i, j] * slc_vec[j] * number[j]\n",
    "        dndt[i] = sum\n",
    "        \n",
    "    # Mechanism 2 (i=2~n)\n",
    "    for i in range(1, n):\n",
    "        dndt[i] -= slc_vec[i] * number[i]\n",
    "\n",
    "    return R1 - R2\n",
    "\n",
    "\n",
    "def phi_breakage(breakage, z, dbs, Py_ssize_t n, Py_ssize_t p, double delta):\n",
    "    # dbs: discretized breakage and selection functions\n",
    "    z = z.astype(np.float)\n",
    "    y = z[0:n]\n",
    "    J = z[n:].reshape((p, n)).transpose()\n",
    "    phiz = np.empty(n * (p + 1))\n",
    "    dfdy = np.empty((n, n))\n",
    "    dfdk = np.empty((p, n))\n",
    "    \n",
    "    Y = np.tile(y, [n, 1])\n",
    "    Yr = Y + np.eye(n) * delta\n",
    "    Yl = Y - np.eye(n) * delta\n",
    "    \n",
    "    # Memoryview\n",
    "    cdef double[:, :] brk_mat = dbs[0]\n",
    "    cdef double[:] slc_vec = dbs[1]\n",
    "    cdef double[:, :, :] brk_mat_r = dbs[2]\n",
    "    cdef double[:, :] slc_vec_r = dbs[3]\n",
    "    cdef double[:, :, :] brk_mat_l = dbs[4]\n",
    "    cdef double[:, :] slc_vec_l = dbs[5]\n",
    "    cdef double[:] yv = y\n",
    "    cdef double[:, :] Yrv = Yr\n",
    "    cdef double[:, :] Ylv = Yl\n",
    "    cdef double[:, :] dfdyv = dfdy\n",
    "    cdef double[:, :] dfdkv = dfdk\n",
    "    \n",
    "    cdef double[:] temp1\n",
    "    cdef double[:] temp2\n",
    "    \n",
    "    cdef Py_ssize_t i, j\n",
    "    \n",
    "    for i in range(n):\n",
    "        temp1 = breakage(Yr[i], brk_mat, slc_vec)\n",
    "        temp2 = breakage(Yl[i], brk_mat, slc_vec)\n",
    "        for j in range(n):\n",
    "            dfdyv[i, j] = (temp1[j] - temp2[j]) / (2 * delta)\n",
    "            \n",
    "    dfdy = dfdy.transpose()\n",
    "    \n",
    "    for i in range(p):\n",
    "        temp1 = breakage(yv, brk_mat_r[i], slc_vec_r[i])\n",
    "        temp2 = breakage(yv, brk_mat_l[i], slc_vec_l[i])\n",
    "        for j in range(n):\n",
    "            dfdkv[i, j] = (temp1[j] - temp2[j]) / (2 * delta)\n",
    "            \n",
    "    dfdk = dfdk.transpose()\n",
    "    \n",
    "    dJdt = dfdy @ J + dfdk\n",
    "    phiz[0:n] = breakage(y, dbs[0], dbs[1])\n",
    "    phiz[n:] = dJdt.transpose().flatten()\n",
    "    return phiz"
   ]
  },
  {
   "cell_type": "code",
   "execution_count": 1,
   "metadata": {},
   "outputs": [
    {
     "name": "stdout",
     "output_type": "stream",
     "text": [
      "No error\n"
     ]
    }
   ],
   "source": [
    "import benchmark\n",
    "\n",
    "benchmark.phi_check()"
   ]
  },
  {
   "cell_type": "code",
   "execution_count": 2,
   "metadata": {},
   "outputs": [
    {
     "name": "stdout",
     "output_type": "stream",
     "text": [
      "constructing phi takes  1.04 ms.\n"
     ]
    }
   ],
   "source": [
    "benchmark.phi('cython')"
   ]
  },
  {
   "cell_type": "markdown",
   "metadata": {},
   "source": [
    "## Parallelize"
   ]
  },
  {
   "cell_type": "code",
   "execution_count": null,
   "metadata": {},
   "outputs": [],
   "source": [
    "def phi_breakage(breakage, z, dbs, n, p, delta):\n",
    "    # dbs: discretized breakage and selection functions\n",
    "    z = z.astype(np.float)\n",
    "    y = z[0:n]\n",
    "    J = z[n:].reshape((p, n)).transpose()\n",
    "    phiz = np.empty(n * (p + 1))\n",
    "    \n",
    "    Y = np.tile(y, [n, 1])\n",
    "    Yr = Y + np.eye(n) * delta\n",
    "    Yl = Y - np.eye(n) * delta\n",
    "    \n",
    "    def in_for_loop1(i):\n",
    "        return (breakage(Yr[i], dbs[0], dbs[1]) - breakage(Yl[i], dbs[0], dbs[1])) / (2 * delta)\n",
    "    \n",
    "    \n",
    "    def in_for_loop2(i):\n",
    "        return (breakage(y, dbs[2][i], dbs[3][i]) - breakage(y, dbs[4][i], dbs[5][i])) / (2 * delta)\n",
    "        \n",
    "    r1 = Parallel(n_jobs=-1)(delayed(in_for_loop1)(i) for i in range(n))\n",
    "    \n",
    "    dfdy = np.stack(r1).T\n",
    "    \n",
    "    r2 = Parallel(n_jobs=-1)(delayed(in_for_loop2)(i) for i in range(p))\n",
    "    \n",
    "    dfdk = np.stack(r2).T\n",
    "   \n",
    "    dJdt = dfdy @ J + dfdk\n",
    "    phiz[0:n] = breakage(y, dbs[0], dbs[1])\n",
    "    phiz[n:] = dJdt.transpose().flatten()\n",
    "    return phiz"
   ]
  },
  {
   "cell_type": "code",
   "execution_count": 1,
   "metadata": {},
   "outputs": [
    {
     "name": "stdout",
     "output_type": "stream",
     "text": [
      "No error\n"
     ]
    }
   ],
   "source": [
    "import benchmark\n",
    "\n",
    "benchmark.phi_parallel_check()"
   ]
  },
  {
   "cell_type": "code",
   "execution_count": 2,
   "metadata": {},
   "outputs": [
    {
     "name": "stdout",
     "output_type": "stream",
     "text": [
      "constructing phi takes 54.54 ms.\n"
     ]
    }
   ],
   "source": [
    "benchmark.phi('parallel')"
   ]
  },
  {
   "cell_type": "markdown",
   "metadata": {},
   "source": [
    "Because of overhead by `joblib.Parallel`, parallelizing degraded the performance significantly."
   ]
  },
  {
   "cell_type": "markdown",
   "metadata": {},
   "source": [
    "## Parallelize by Cython with nogil"
   ]
  },
  {
   "cell_type": "code",
   "execution_count": null,
   "metadata": {},
   "outputs": [],
   "source": [
    "cdef double[:] breakage(double[:] number, double[:, :] brk_mat, double[:] slc_vec) nogil:\n",
    "    cdef Py_ssize_t n = len(number)\n",
    "    cdef double[:] dndt = np.zeros(n).astype(np.double)\n",
    "    \n",
    "    cdef Py_ssize_t i, j\n",
    "    cdef double sum\n",
    "    \n",
    "    # Mechanism 1 (i=1~n, j=i~n) !!! with index 1~n\n",
    "    for i in range(n):\n",
    "        sum = 0\n",
    "        for j in range(i, n):\n",
    "            sum += brk_mat[i, j] * slc_vec[j] * number[j]\n",
    "        dndt[i] = sum\n",
    "        \n",
    "    # Mechanism 2 (i=2~n)\n",
    "    for i in range(1, n):\n",
    "        dndt[i] -= slc_vec[i] * number[i]\n",
    "\n",
    "    return R1 - R2\n",
    "\n",
    "\n",
    "from cython.parallel import prange \n",
    "\n",
    "\n",
    "def phi_breakage(breakage, z, dbs, Py_ssize_t n, Py_ssize_t p, double delta):\n",
    "    # dbs: discretized breakage and selection functions\n",
    "    z = z.astype(np.float)\n",
    "    y = z[0:n]\n",
    "    J = z[n:].reshape((p, n)).transpose()\n",
    "    phiz = np.empty(n * (p + 1))\n",
    "    dfdy = np.empty((n, n))\n",
    "    dfdk = np.empty((p, n))\n",
    "    \n",
    "    Y = np.tile(y, [n, 1])\n",
    "    Yr = Y + np.eye(n) * delta\n",
    "    Yl = Y - np.eye(n) * delta\n",
    "    \n",
    "    # Memoryview\n",
    "    cdef double[:, :] brk_mat = dbs[0]\n",
    "    cdef double[:] slc_vec = dbs[1]\n",
    "    cdef double[:, :, :] brk_mat_r = dbs[2]\n",
    "    cdef double[:, :] slc_vec_r = dbs[3]\n",
    "    cdef double[:, :, :] brk_mat_l = dbs[4]\n",
    "    cdef double[:, :] slc_vec_l = dbs[5]\n",
    "    cdef double[:] yv = y\n",
    "    cdef double[:, :] Yrv = Yr\n",
    "    cdef double[:, :] Ylv = Yl\n",
    "    cdef double[:, :] dfdyv = dfdy\n",
    "    cdef double[:, :] dfdkv = dfdk\n",
    "    \n",
    "    cdef double[:] temp1\n",
    "    cdef double[:] temp2\n",
    "    \n",
    "    cdef Py_ssize_t i, j\n",
    "    \n",
    "    for i in prange(n, nogil=True):\n",
    "        temp1 = breakage(Yr[i], brk_mat, slc_vec)\n",
    "        temp2 = breakage(Yl[i], brk_mat, slc_vec)\n",
    "        for j in range(n):\n",
    "            dfdyv[i, j] = (temp1[j] - temp2[j]) / (2 * delta)\n",
    "            \n",
    "    dfdy = dfdy.transpose()\n",
    "    \n",
    "    for i in prange(p, nogil=True):\n",
    "        temp1 = breakage(yv, brk_mat_r[i], slc_vec_r[i])\n",
    "        temp2 = breakage(yv, brk_mat_l[i], slc_vec_l[i])\n",
    "        for j in range(n):\n",
    "            dfdkv[i, j] = (temp1[j] - temp2[j]) / (2 * delta)\n",
    "            \n",
    "    dfdk = dfdk.transpose()\n",
    "    \n",
    "    dJdt = dfdy @ J + dfdk\n",
    "    phiz[0:n] = breakage(y, dbs[0], dbs[1])\n",
    "    phiz[n:] = dJdt.transpose().flatten()\n",
    "    return phiz"
   ]
  }
 ],
 "metadata": {
  "kernelspec": {
   "display_name": "Python 3",
   "language": "python",
   "name": "python3"
  },
  "language_info": {
   "codemirror_mode": {
    "name": "ipython",
    "version": 3
   },
   "file_extension": ".py",
   "mimetype": "text/x-python",
   "name": "python",
   "nbconvert_exporter": "python",
   "pygments_lexer": "ipython3",
   "version": "3.7.3"
  }
 },
 "nbformat": 4,
 "nbformat_minor": 2
}
